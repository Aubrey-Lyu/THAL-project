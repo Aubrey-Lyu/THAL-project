{
 "cells": [
  {
   "cell_type": "markdown",
   "id": "43875142",
   "metadata": {},
   "source": [
    "# 2-Sample tests between groups - Spectrograms"
   ]
  },
  {
   "cell_type": "code",
   "execution_count": 5,
   "id": "3f546df5",
   "metadata": {},
   "outputs": [],
   "source": [
    "import numpy as np\n",
    "import matplotlib.pyplot as plt\n",
    "import scipy.stats\n",
    "import os\n",
    "import mne\n",
    "from mne.time_frequency import tfr_morlet\n",
    "import pandas as pd\n",
    "import scipy.io as io\n",
    "from numpy import loadtxt\n",
    "from sklearn.pipeline import make_pipeline\n",
    "from sklearn.impute import SimpleImputer\n",
    "import sklearn.metrics.pairwise as pairwise\n",
    "from mpl_toolkits.axes_grid1 import make_axes_locatable"
   ]
  },
  {
   "cell_type": "code",
   "execution_count": 6,
   "id": "1d1d926a",
   "metadata": {},
   "outputs": [],
   "source": [
    "import sys\n",
    "sys.path+=['/data/dian/Dropbox/Stanford_Matters/data/THAL/UMAP',\n",
    "           '/data/dian/Dropbox/scripts/Stanford/ThalamocoricalLoop-project/utils']\n",
    "import customFunctions\n",
    "import statsFunctions\n",
    "import importlib\n",
    "importlib.reload(customFunctions)\n",
    "importlib.reload(statsFunctions)\n",
    "from customFunctions import *\n",
    "from statsFunctions import *"
   ]
  },
  {
   "cell_type": "code",
   "execution_count": 7,
   "id": "90f35c76",
   "metadata": {},
   "outputs": [],
   "source": [
    "os.chdir('/data/dian/Dropbox/Stanford_Matters/data/THAL/CCEP/results/explore5_locked')"
   ]
  },
  {
   "cell_type": "code",
   "execution_count": 8,
   "id": "34bc0edb",
   "metadata": {},
   "outputs": [
    {
     "data": {
      "text/html": [
       "<div>\n",
       "<style scoped>\n",
       "    .dataframe tbody tr th:only-of-type {\n",
       "        vertical-align: middle;\n",
       "    }\n",
       "\n",
       "    .dataframe tbody tr th {\n",
       "        vertical-align: top;\n",
       "    }\n",
       "\n",
       "    .dataframe thead th {\n",
       "        text-align: right;\n",
       "    }\n",
       "</style>\n",
       "<table border=\"1\" class=\"dataframe\">\n",
       "  <thead>\n",
       "    <tr style=\"text-align: right;\">\n",
       "      <th></th>\n",
       "      <th>subject</th>\n",
       "      <th>aSubID</th>\n",
       "      <th>block_name</th>\n",
       "      <th>stim_chan</th>\n",
       "      <th>record_chan</th>\n",
       "      <th>sc1</th>\n",
       "      <th>sc2</th>\n",
       "      <th>rc1</th>\n",
       "      <th>rc2</th>\n",
       "      <th>stim_shank</th>\n",
       "      <th>...</th>\n",
       "      <th>pks_time_3</th>\n",
       "      <th>pks_time_4</th>\n",
       "      <th>pks_time_5</th>\n",
       "      <th>pks_time_6</th>\n",
       "      <th>pks_time_7</th>\n",
       "      <th>pks_time_8</th>\n",
       "      <th>pks_time_9</th>\n",
       "      <th>pks_time_10</th>\n",
       "      <th>pks_time_11</th>\n",
       "      <th>pks_time_12</th>\n",
       "    </tr>\n",
       "  </thead>\n",
       "  <tbody>\n",
       "    <tr>\n",
       "      <th>0</th>\n",
       "      <td>S21_166_TM</td>\n",
       "      <td>S01_166</td>\n",
       "      <td>E21-725_0010</td>\n",
       "      <td>LPCN1-LPCN2</td>\n",
       "      <td>LORF1-LORF2</td>\n",
       "      <td>LPCN1</td>\n",
       "      <td>LPCN2</td>\n",
       "      <td>LORF1</td>\n",
       "      <td>LORF2</td>\n",
       "      <td>0</td>\n",
       "      <td>...</td>\n",
       "      <td>460.0</td>\n",
       "      <td>NaN</td>\n",
       "      <td>NaN</td>\n",
       "      <td>NaN</td>\n",
       "      <td>NaN</td>\n",
       "      <td>NaN</td>\n",
       "      <td>NaN</td>\n",
       "      <td>NaN</td>\n",
       "      <td>NaN</td>\n",
       "      <td>NaN</td>\n",
       "    </tr>\n",
       "    <tr>\n",
       "      <th>1</th>\n",
       "      <td>S21_166_TM</td>\n",
       "      <td>S01_166</td>\n",
       "      <td>E21-725_0010</td>\n",
       "      <td>LPCN1-LPCN2</td>\n",
       "      <td>LORF2-LORF3</td>\n",
       "      <td>LPCN1</td>\n",
       "      <td>LPCN2</td>\n",
       "      <td>LORF2</td>\n",
       "      <td>LORF3</td>\n",
       "      <td>0</td>\n",
       "      <td>...</td>\n",
       "      <td>442.0</td>\n",
       "      <td>NaN</td>\n",
       "      <td>NaN</td>\n",
       "      <td>NaN</td>\n",
       "      <td>NaN</td>\n",
       "      <td>NaN</td>\n",
       "      <td>NaN</td>\n",
       "      <td>NaN</td>\n",
       "      <td>NaN</td>\n",
       "      <td>NaN</td>\n",
       "    </tr>\n",
       "    <tr>\n",
       "      <th>2</th>\n",
       "      <td>S21_166_TM</td>\n",
       "      <td>S01_166</td>\n",
       "      <td>E21-725_0010</td>\n",
       "      <td>LPCN1-LPCN2</td>\n",
       "      <td>LORF3-LORF4</td>\n",
       "      <td>LPCN1</td>\n",
       "      <td>LPCN2</td>\n",
       "      <td>LORF3</td>\n",
       "      <td>LORF4</td>\n",
       "      <td>0</td>\n",
       "      <td>...</td>\n",
       "      <td>73.0</td>\n",
       "      <td>167.0</td>\n",
       "      <td>476.0</td>\n",
       "      <td>NaN</td>\n",
       "      <td>NaN</td>\n",
       "      <td>NaN</td>\n",
       "      <td>NaN</td>\n",
       "      <td>NaN</td>\n",
       "      <td>NaN</td>\n",
       "      <td>NaN</td>\n",
       "    </tr>\n",
       "    <tr>\n",
       "      <th>3</th>\n",
       "      <td>S21_166_TM</td>\n",
       "      <td>S01_166</td>\n",
       "      <td>E21-725_0010</td>\n",
       "      <td>LPCN1-LPCN2</td>\n",
       "      <td>LORF4-LORF5</td>\n",
       "      <td>LPCN1</td>\n",
       "      <td>LPCN2</td>\n",
       "      <td>LORF4</td>\n",
       "      <td>LORF5</td>\n",
       "      <td>0</td>\n",
       "      <td>...</td>\n",
       "      <td>157.0</td>\n",
       "      <td>454.0</td>\n",
       "      <td>NaN</td>\n",
       "      <td>NaN</td>\n",
       "      <td>NaN</td>\n",
       "      <td>NaN</td>\n",
       "      <td>NaN</td>\n",
       "      <td>NaN</td>\n",
       "      <td>NaN</td>\n",
       "      <td>NaN</td>\n",
       "    </tr>\n",
       "    <tr>\n",
       "      <th>4</th>\n",
       "      <td>S21_166_TM</td>\n",
       "      <td>S01_166</td>\n",
       "      <td>E21-725_0010</td>\n",
       "      <td>LPCN1-LPCN2</td>\n",
       "      <td>LORF5-LORF6</td>\n",
       "      <td>LPCN1</td>\n",
       "      <td>LPCN2</td>\n",
       "      <td>LORF5</td>\n",
       "      <td>LORF6</td>\n",
       "      <td>0</td>\n",
       "      <td>...</td>\n",
       "      <td>444.0</td>\n",
       "      <td>NaN</td>\n",
       "      <td>NaN</td>\n",
       "      <td>NaN</td>\n",
       "      <td>NaN</td>\n",
       "      <td>NaN</td>\n",
       "      <td>NaN</td>\n",
       "      <td>NaN</td>\n",
       "      <td>NaN</td>\n",
       "      <td>NaN</td>\n",
       "    </tr>\n",
       "  </tbody>\n",
       "</table>\n",
       "<p>5 rows × 70 columns</p>\n",
       "</div>"
      ],
      "text/plain": [
       "      subject   aSubID    block_name    stim_chan  record_chan    sc1    sc2   \n",
       "0  S21_166_TM  S01_166  E21-725_0010  LPCN1-LPCN2  LORF1-LORF2  LPCN1  LPCN2  \\\n",
       "1  S21_166_TM  S01_166  E21-725_0010  LPCN1-LPCN2  LORF2-LORF3  LPCN1  LPCN2   \n",
       "2  S21_166_TM  S01_166  E21-725_0010  LPCN1-LPCN2  LORF3-LORF4  LPCN1  LPCN2   \n",
       "3  S21_166_TM  S01_166  E21-725_0010  LPCN1-LPCN2  LORF4-LORF5  LPCN1  LPCN2   \n",
       "4  S21_166_TM  S01_166  E21-725_0010  LPCN1-LPCN2  LORF5-LORF6  LPCN1  LPCN2   \n",
       "\n",
       "     rc1    rc2  stim_shank  ...  pks_time_3  pks_time_4  pks_time_5   \n",
       "0  LORF1  LORF2           0  ...       460.0         NaN         NaN  \\\n",
       "1  LORF2  LORF3           0  ...       442.0         NaN         NaN   \n",
       "2  LORF3  LORF4           0  ...        73.0       167.0       476.0   \n",
       "3  LORF4  LORF5           0  ...       157.0       454.0         NaN   \n",
       "4  LORF5  LORF6           0  ...       444.0         NaN         NaN   \n",
       "\n",
       "   pks_time_6  pks_time_7  pks_time_8  pks_time_9  pks_time_10  pks_time_11   \n",
       "0         NaN         NaN         NaN         NaN          NaN          NaN  \\\n",
       "1         NaN         NaN         NaN         NaN          NaN          NaN   \n",
       "2         NaN         NaN         NaN         NaN          NaN          NaN   \n",
       "3         NaN         NaN         NaN         NaN          NaN          NaN   \n",
       "4         NaN         NaN         NaN         NaN          NaN          NaN   \n",
       "\n",
       "   pks_time_12  \n",
       "0          NaN  \n",
       "1          NaN  \n",
       "2          NaN  \n",
       "3          NaN  \n",
       "4          NaN  \n",
       "\n",
       "[5 rows x 70 columns]"
      ]
     },
     "execution_count": 8,
     "metadata": {},
     "output_type": "execute_result"
    }
   ],
   "source": [
    "metaT = pd.read_csv('table_CCEPnewpipOutput_wholebrain_anatomical_info_activationRedone2.csv')\n",
    "metaT.head()"
   ]
  },
  {
   "cell_type": "markdown",
   "id": "f16bb793",
   "metadata": {},
   "source": [
    "## Activated spectra minus non-activated spectra for each individual"
   ]
  },
  {
   "cell_type": "code",
   "execution_count": 9,
   "id": "83ea49a7",
   "metadata": {},
   "outputs": [
    {
     "name": "stdout",
     "output_type": "stream",
     "text": [
      "(26,)\n",
      "['S21_166_TM' 'S21_167_MQ' 'S21_169_BH' 'S21_170_JL' 'S21_171_MM'\n",
      " 'S21_172_KS' 'S22_176_LB' 'S22_177_JM' 'S22_178_AF' 'S22_181_CB'\n",
      " 'S22_182_DH' 'S22_183_CR' 'S22_185_TW' 'S22_188_CB' 'S22_189_LMA'\n",
      " 'S22_190_AS' 'S22_192_LG' 'S22_193_AM' 'S23_194_PS' 'S23_195_MZ'\n",
      " 'S23_197_TA' 'S23_198_JP' 'S23_199_GB' 'S23_201_JG' 'S23_202_KC'\n",
      " 'S23_205_LLC']\n"
     ]
    }
   ],
   "source": [
    "sblist = metaT.subject.unique()\n",
    "sblist = np.delete(sblist, np.where(sblist=='S23_196_HL'))\n",
    "print(sblist.shape)\n",
    "print(sblist)\n",
    "mat = mergeMat(sblist, keys=['filteridx_metaT','Vrpw','Vrpc', 'Vrph'],\n",
    "              inputDir = 'UMAP_learn/resample3')\n",
    "n1=mat['Vrpw'].shape[1]\n",
    "n2=mat['Vrpc'].shape[1]"
   ]
  },
  {
   "cell_type": "code",
   "execution_count": 10,
   "id": "561d63c0",
   "metadata": {},
   "outputs": [],
   "source": [
    "dirbase = '/home/dian/Desktop/THAL/UMAP'\n",
    "anot = np.array([])\n",
    "for sb in sblist:\n",
    "    fn = dirbase+'/WITHINSBJ_semisupervise/actLearn_2clusters_anot_%s.txt' %sb\n",
    "    content = np.loadtxt(fn).astype(np.int64)\n",
    "    anot = np.concatenate((anot, content), axis=0)"
   ]
  },
  {
   "cell_type": "code",
   "execution_count": 11,
   "id": "398c0c47",
   "metadata": {},
   "outputs": [
    {
     "name": "stdout",
     "output_type": "stream",
     "text": [
      "80791\n",
      "(249893, 2580)\n"
     ]
    }
   ],
   "source": [
    "anot = np.array(anot)\n",
    "actIdx = np.where(anot == 2)[0] # NOTE: 'anot' is already filteridx_metaT filtered!\n",
    "noactIdx = np.where(anot == 1)[0]\n",
    "\n",
    "print(len(actIdx))\n",
    "\n",
    "dat0 = np.concatenate((mat['Vrpw'], mat['Vrpc']), axis=1)\n",
    "print(dat0.shape)\n",
    "\n",
    "# loop through each stimulation channel, to get the activation pattern contracted with the non-activated pattern; \n",
    "#i.e. using each channel's non-activation pattern as control\n",
    "allsublist = metaT['subject'][mat['filteridx_metaT'][:,0]].tolist()\n",
    "allstimlist = metaT['stim_chan'][mat['filteridx_metaT'][:,0]].tolist()\n",
    "allstimID = [i+' '+j for i,j in zip(allsublist, allstimlist)]\n"
   ]
  },
  {
   "cell_type": "code",
   "execution_count": 12,
   "id": "05eaa735",
   "metadata": {},
   "outputs": [
    {
     "name": "stderr",
     "output_type": "stream",
     "text": [
      "/tmp/ipykernel_3375282/1360297360.py:10: RuntimeWarning: Mean of empty slice\n",
      "  dat0_res[sactIdx,:] = dat0[sactIdx,:] - np.nanmean(dat0[snonIdx,:], axis = 0) #subtract row vector from matrix\n"
     ]
    }
   ],
   "source": [
    "dat0_res = dat0.copy()\n",
    "N_noact = [] # each case corresponding to a stimID - check for unstable pattern when the number to average is too low\n",
    "N_actrate = []\n",
    "for stimID in set(allstimID):\n",
    "    stimIdx = set(np.where(np.array(allstimID) == stimID)[0])\n",
    "    sactIdx = list(stimIdx.intersection(actIdx))\n",
    "    snonIdx = list(stimIdx.intersection(noactIdx))\n",
    "    actrate = len(sactIdx)/len(stimIdx)\n",
    "    \n",
    "    dat0_res[sactIdx,:] = dat0[sactIdx,:] - np.nanmean(dat0[snonIdx,:], axis = 0) #subtract row vector from matrix\n",
    "    N_noact.append(len(snonIdx))\n",
    "    N_actrate.append(actrate)\n",
    "    "
   ]
  },
  {
   "cell_type": "code",
   "execution_count": 13,
   "id": "2fc30ea4",
   "metadata": {},
   "outputs": [
    {
     "name": "stdout",
     "output_type": "stream",
     "text": [
      "(249893, 2580)\n",
      "249893\n",
      "80791\n"
     ]
    }
   ],
   "source": [
    "print(dat0_res.shape)\n",
    "print(len(anot))\n",
    "print(len(actIdx))\n",
    "#del dat0"
   ]
  },
  {
   "cell_type": "code",
   "execution_count": 14,
   "id": "67680f2c",
   "metadata": {},
   "outputs": [
    {
     "data": {
      "text/plain": [
       "80673"
      ]
     },
     "execution_count": 14,
     "metadata": {},
     "output_type": "execute_result"
    }
   ],
   "source": [
    "stimID_exclude  = 'S21_167_MQ RE1-RE2'\n",
    "estimIdx = set(np.where(np.array(allstimID) == stimID_exclude)[0])\n",
    "esactIdx = estimIdx.intersection(actIdx)\n",
    "# exclude 'S21_167_MQ RE1-RE2' as it has too few inactivated cases = 5\n",
    "actIdx = set(actIdx) - esactIdx\n",
    "actIdx = list(actIdx)\n",
    "len(actIdx)"
   ]
  },
  {
   "cell_type": "code",
   "execution_count": 15,
   "id": "eadf6f08",
   "metadata": {},
   "outputs": [
    {
     "name": "stdout",
     "output_type": "stream",
     "text": [
      "58598\n"
     ]
    }
   ],
   "source": [
    "# finalize preparing input data and anatomical information\n",
    "dat = dat0_res[actIdx,:]\n",
    "filterIdx = mat['filteridx_metaT'][actIdx,0]\n",
    "T = metaT.iloc[filterIdx,].reset_index()\n",
    "cleanfilter = (T.sCrossBorder==0) & (T.rCrossBorder==0) & (T.eudDist>5)\n",
    "# clean data\n",
    "dat = dat[cleanfilter,:]\n",
    "T = T.loc[cleanfilter,].reset_index()\n",
    "# get connectivity information\n",
    "hemis = list(map(detHemi,\n",
    "                 T.MNIout_coord_1.tolist(), T.MNIin_coord_1.tolist()\n",
    "          ))\n",
    "df = pd.DataFrame({'anatomy_conn': list(map(lambda x,y:'-'.join(str(e) for e in [x,y]),\n",
    "                  cortexLab(T.JP_label_out.tolist()),\n",
    "                  cortexLab(T.JP_label_in.tolist()))),#,\n",
    "                 # metaT.activated.tolist())),\n",
    "                   'hemis':hemis\n",
    "                  })\n",
    "df['anatomy_from'] = cortexLab(T.JP_label_out.tolist())\n",
    "df['anatomy_to']   = cortexLab(T.JP_label_in.tolist())\n",
    "df['anatomy_fromTHAL'] = thalLab(T.JP_label_out.tolist())\n",
    "df['anatomy_toTHAL'] = thalLab(T.JP_label_in.tolist())\n",
    "\n",
    "crossNet_cat = ['internet','intranet']\n",
    "df['crossNet_bin'] = list(map(lambda x,y:crossNet_cat[int(x==y)],\n",
    "                         T.Yeo7_out2, T.Yeo7_in2))\n",
    "df['crossNet'] = list(map(lambda x,y:'-'.join(str(e) for e in [x,y]),\n",
    "                         T.Yeo7_out2, T.Yeo7_in2))\n",
    "df['Hemi-crossNet_bin'] = list(map(lambda x,y:'-'.join(str(e) for e in [x,y]),\n",
    "                  df['hemis'],\n",
    "                  df['crossNet_bin']\n",
    "                         ))\n",
    "df['anatomy_from-hemi'] = df['anatomy_from'].str.cat(df['hemis'], sep='-')\n",
    "df['anatomy_conn-hemi'] = df['anatomy_conn'].str.cat(df['hemis'], sep='-')\n",
    "\n",
    "# exclude some ROIs\n",
    "excludeROI = np.invert(df['anatomy_conn'].str.contains('others'))\n",
    "df = df.loc[excludeROI,].reset_index()\n",
    "print(len(df))\n",
    "dat = dat[excludeROI,:]"
   ]
  },
  {
   "cell_type": "code",
   "execution_count": 16,
   "id": "48baac48",
   "metadata": {},
   "outputs": [
    {
     "name": "stdout",
     "output_type": "stream",
     "text": [
      "(58598, 2580)\n"
     ]
    }
   ],
   "source": [
    "print(dat.shape)"
   ]
  },
  {
   "cell_type": "code",
   "execution_count": 17,
   "id": "4d1e692e",
   "metadata": {},
   "outputs": [],
   "source": [
    "# save input data for future loading\n",
    "#np.save('UMAP/ALLDATA_semisupervise/input_dat1_untransformed.npy',dat1)"
   ]
  },
  {
   "cell_type": "code",
   "execution_count": 18,
   "id": "ff15a779",
   "metadata": {},
   "outputs": [],
   "source": [
    "# import results from UMAP supervised training using anatomical information\n",
    "brainInfo = pd.read_csv('UMAP/ALLDATA_semisupervise/brainInfo.csv')"
   ]
  },
  {
   "cell_type": "code",
   "execution_count": 19,
   "id": "236b41a3",
   "metadata": {},
   "outputs": [],
   "source": [
    "isnoise = loadtxt('UMAP/ALLDATA_semisupervise/isnoise.txt',\n",
    "                delimiter=\"\\t\")\n",
    "cleanFeatures = loadtxt('UMAP/ALLDATA_semisupervise/cleanFeatures.txt',\n",
    "                delimiter=\"\\t\",dtype='str')"
   ]
  },
  {
   "cell_type": "code",
   "execution_count": 20,
   "id": "6faf4cbf",
   "metadata": {},
   "outputs": [
    {
     "name": "stdout",
     "output_type": "stream",
     "text": [
      "['COR-contr', 'THAL-ipsi', 'COR-ipsi', 'THAL-contr']\n"
     ]
    }
   ],
   "source": [
    "ftypes = list(set(cleanFeatures))\n",
    "print(ftypes)"
   ]
  },
  {
   "cell_type": "markdown",
   "id": "21cab7a4",
   "metadata": {},
   "source": [
    "### 2-sample cluster permutation test between groups"
   ]
  },
  {
   "cell_type": "code",
   "execution_count": 21,
   "id": "375973c8",
   "metadata": {},
   "outputs": [
    {
     "data": {
      "text/plain": [
       "['COR-contr', 'THAL-ipsi', 'COR-ipsi', 'THAL-contr']"
      ]
     },
     "execution_count": 21,
     "metadata": {},
     "output_type": "execute_result"
    }
   ],
   "source": [
    "ftypes"
   ]
  },
  {
   "cell_type": "code",
   "execution_count": 22,
   "id": "eddc5ccd",
   "metadata": {},
   "outputs": [
    {
     "name": "stdout",
     "output_type": "stream",
     "text": [
      "Group1: COR-contr\n",
      "(9415, 2580)\n",
      "Group2: THAL-ipsi\n",
      "(5209, 2580)\n"
     ]
    }
   ],
   "source": [
    "it1 = 0\n",
    "it2 = 1\n",
    "print('Group1: %s'%(ftypes[it1]))\n",
    "filterBoolean = (cleanFeatures==ftypes[it1])&( isnoise==0) \n",
    "d1_ = dat[filterBoolean]\n",
    "print(d1_.shape)\n",
    "\n",
    "print('Group2: %s'%(ftypes[it2]))\n",
    "filterBoolean = (cleanFeatures==ftypes[it2])&( isnoise==0) \n",
    "d2_ = dat[filterBoolean]\n",
    "print(d2_.shape)\n",
    "# impute missing data\n",
    "# Preprocess - simulate nan values, which are few\n",
    "pipe = make_pipeline(SimpleImputer(strategy=\"mean\"))\n",
    "d1 = pipe.fit_transform(d1_.copy())\n",
    "d2 = pipe.fit_transform(d2_.copy())"
   ]
  },
  {
   "cell_type": "code",
   "execution_count": 23,
   "id": "a0b81f37",
   "metadata": {},
   "outputs": [
    {
     "data": {
      "text/plain": [
       "<matplotlib.legend.Legend at 0x7f3968bdcca0>"
      ]
     },
     "execution_count": 23,
     "metadata": {},
     "output_type": "execute_result"
    },
    {
     "data": {
      "image/png": "[encoded data removed]",
      "text/plain": [
       "<Figure size 640x480 with 1 Axes>"
      ]
     },
     "metadata": {},
     "output_type": "display_data"
    }
   ],
   "source": [
    "# check variance\n",
    "var1 = np.var(d1,axis=0)\n",
    "var2 = np.var(d2,axis=0)\n",
    "plt.close()\n",
    "plt.figure()\n",
    "plt.hist(var1, bins=20, alpha=0.5)\n",
    "plt.hist(var2, bins=20, alpha=0.5)\n",
    "plt.legend([ftypes[it1],ftypes[it2]])"
   ]
  },
  {
   "cell_type": "code",
   "execution_count": 24,
   "id": "f5d0b132",
   "metadata": {},
   "outputs": [],
   "source": [
    "ntime = 60\n",
    "pw1 = d1[:,0:n1].reshape(d1.shape[0], ntime,-1)\n",
    "pw2 = d2[:,0:n1].reshape(d2.shape[0], ntime,-1)"
   ]
  },
  {
   "cell_type": "code",
   "execution_count": 25,
   "id": "fe9b4b3f",
   "metadata": {},
   "outputs": [
    {
     "data": {
      "image/png": "[encoded data removed]",
      "text/plain": [
       "<Figure size 1500x500 with 6 Axes>"
      ]
     },
     "metadata": {},
     "output_type": "display_data"
    }
   ],
   "source": [
    "tG1 = tscore_1sample(d1)\n",
    "tG2 = tscore_1sample(d2)\n",
    "plotSpectra2Groups(np.rot90(tG1[0:n1].reshape(ntime, -1)),\n",
    "                   np.rot90(tG2[0:n1].reshape(ntime, -1)))"
   ]
  },
  {
   "cell_type": "code",
   "execution_count": 27,
   "id": "96fa6501",
   "metadata": {},
   "outputs": [],
   "source": [
    "adjacency = mne.stats.combine_adjacency(\n",
    "     pw1.shape[1], pw1.shape[2] #  times, freqs\n",
    ")"
   ]
  },
  {
   "cell_type": "markdown",
   "id": "aae0b7f2",
   "metadata": {},
   "source": [
    "#### Compute statistics\n"
   ]
  },
  {
   "cell_type": "code",
   "execution_count": 28,
   "id": "c7bc204d",
   "metadata": {},
   "outputs": [
    {
     "name": "stdout",
     "output_type": "stream",
     "text": [
      "stat_fun(H1): min=0.001704 max=2737.956124\n",
      "Running initial clustering …\n",
      "Found 4 clusters\n"
     ]
    },
    {
     "data": {
      "application/vnd.jupyter.widget-view+json": {
       "model_id": "9d556106f8314f2b94af6dee2c630894",
       "version_major": 2,
       "version_minor": 0
      },
      "text/plain": [
       "  0%|          | Permuting : 0/4999 [00:00<?,       ?it/s]"
      ]
     },
     "metadata": {},
     "output_type": "display_data"
    }
   ],
   "source": [
    "# We want a one-tailed test\n",
    "tail = 0\n",
    "\n",
    "# In this example, we wish to set the threshold for including data bins in\n",
    "# the cluster forming process to the t-value corresponding to p=0.001 for the\n",
    "# given data.\n",
    "#\n",
    "# As the degrees of freedom, we specify the number of observations\n",
    "# (here: epochs) minus 1.\n",
    "# Finally, we subtract 0.001 from 1, to get the critical t-value\n",
    "# on the right tail (this is needed for MNE-Python internals)\n",
    "#degrees_of_freedom = pw1.shape[0] + pw2.shape[0] - 2\n",
    "#p_threshold = 0.0000001\n",
    "#thresh = scipy.stats.f.ppf(1 - p_threshold, pw1.shape[0]-1, pw2.shape[0]-1)\n",
    "\n",
    "# Set the number of permutations to run.\n",
    "# Warning: 50 is way too small for a real-world analysis (where values of 5000\n",
    "# or higher are used), but here we use it to increase the computation speed.\n",
    "n_permutations = 5000\n",
    "\n",
    "# Run the analysis\n",
    "F_obs, clusters, cluster_p_values, H0 = mne.stats.permutation_cluster_test(\n",
    "    [pw1,pw2], n_jobs=-1,\n",
    "    n_permutations=n_permutations,\n",
    "    threshold= 500,\n",
    "    tail=tail,\n",
    "    adjacency=adjacency,\n",
    "    out_type=\"mask\",\n",
    "    verbose=True\n",
    ")"
   ]
  },
  {
   "cell_type": "code",
   "execution_count": null,
   "id": "60d02dee",
   "metadata": {},
   "outputs": [],
   "source": [
    "plt.figure()\n",
    "plt.subplots_adjust(0.12, 0.08, 0.96, 0.94, 0.2, 0.43)\n",
    "\n",
    "F_obs_plot = np.nan * np.ones_like(F_obs)\n",
    "for c, p_val in zip(clusters, cluster_p_values):\n",
    "    if p_val <= 0.01:\n",
    "        F_obs_plot[c] = F_obs[c]\n",
    "\n",
    "\n",
    "t_idx, f_idx = np.unravel_index(\n",
    "    np.nanargmax(np.abs(F_obs_plot)), pw1.shape[1:]\n",
    ")\n",
    "\n",
    "vmax = np.max(np.abs(F_obs))\n",
    "vmin = -vmax\n",
    "plt.close()\n",
    "plt.figure()\n",
    "plt.imshow(\n",
    "    np.transpose(F_obs),\n",
    "    cmap=plt.cm.gray,\n",
    "   # extent=[times[0], times[-1], freqs[0], freqs[-1]],\n",
    "    aspect=\"auto\",\n",
    "    origin=\"lower\",\n",
    "    vmin=vmin,\n",
    "    vmax=vmax,\n",
    ")\n",
    "\n",
    "plt.imshow(\n",
    "    np.transpose(F_obs_plot),\n",
    "    cmap=plt.cm.RdBu_r,\n",
    " #   extent=[times[0], times[-1], freqs[0], freqs[-1]],\n",
    "    aspect=\"auto\",\n",
    "    origin=\"lower\",\n",
    "    vmin=vmin,\n",
    "    vmax=vmax,\n",
    ")\n",
    "plt.colorbar()\n",
    "plt.xlabel(\"Time (customized unit)\")\n",
    "plt.ylabel(\"Frequency (customized unit)\")\n",
    "#plt.title(f\"Induced power ({tfr_epochs.ch_names[ch_idx]})\")"
   ]
  },
  {
   "cell_type": "code",
   "execution_count": null,
   "id": "da3a1da8",
   "metadata": {},
   "outputs": [],
   "source": [
    "# save significant clusters\n",
    "sigClsts = {\"F_obs\":F_obs, \"clusters\":np.array(clusters), \"cluster_p_values\":cluster_p_values, \"H0\":H0,\n",
    "           \"F_obs_thr\":F_obs_plot, 't_idx':t_idx, 'f_idx':f_idx}\n",
    "io.savemat(\"GroupLevel_SigTest/mnePermutationCluster2Sample-Ftest_sigClsts_%s_vs_%s.mat\"%(ftypes[it1],ftypes[it2]), \n",
    "           sigClsts)"
   ]
  },
  {
   "cell_type": "code",
   "execution_count": null,
   "id": "21cbb611",
   "metadata": {},
   "outputs": [],
   "source": []
  }
 ],
 "metadata": {
  "kernelspec": {
   "display_name": "Python 3 (ipykernel)",
   "language": "python",
   "name": "python3"
  },
  "language_info": {
   "codemirror_mode": {
    "name": "ipython",
    "version": 3
   },
   "file_extension": ".py",
   "mimetype": "text/x-python",
   "name": "python",
   "nbconvert_exporter": "python",
   "pygments_lexer": "ipython3",
   "version": "3.9.16"
  }
 },
 "nbformat": 4,
 "nbformat_minor": 5
}
