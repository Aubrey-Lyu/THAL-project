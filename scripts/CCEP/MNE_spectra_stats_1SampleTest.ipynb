{
 "cells": [
  {
   "cell_type": "markdown",
   "id": "43875142",
   "metadata": {},
   "source": [
    "# 1-sample test for detecting clusters for featured spectrograms"
   ]
  },
  {
   "cell_type": "code",
   "execution_count": 1,
   "id": "3f546df5",
   "metadata": {},
   "outputs": [],
   "source": [
    "import numpy as np\n",
    "import matplotlib.pyplot as plt\n",
    "import scipy.stats\n",
    "import os\n",
    "import mne\n",
    "from mne.time_frequency import tfr_morlet\n",
    "import pandas as pd\n",
    "import scipy.io as io\n",
    "from numpy import loadtxt\n",
    "from sklearn.pipeline import make_pipeline\n",
    "from sklearn.impute import SimpleImputer\n",
    "import sklearn.metrics.pairwise as pairwise\n",
    "from mpl_toolkits.axes_grid1 import make_axes_locatable"
   ]
  },
  {
   "cell_type": "code",
   "execution_count": 89,
   "id": "1d1d926a",
   "metadata": {},
   "outputs": [],
   "source": [
    "import sys\n",
    "sys.path+=['/data/dian/Dropbox/Stanford_Matters/data/THAL/UMAP',\n",
    "           '/data/dian/Dropbox/scripts/Stanford/ThalamocoricalLoop-project/utils']\n",
    "import customFunctions\n",
    "import statsFunctions\n",
    "import importlib\n",
    "importlib.reload(customFunctions)\n",
    "importlib.reload(statsFunctions)\n",
    "from customFunctions import *\n",
    "from statsFunctions import *"
   ]
  },
  {
   "cell_type": "code",
   "execution_count": 3,
   "id": "90f35c76",
   "metadata": {},
   "outputs": [],
   "source": [
    "os.chdir('/data/dian/Dropbox/Stanford_Matters/data/THAL/CCEP/results/explore5_locked')"
   ]
  },
  {
   "cell_type": "code",
   "execution_count": 4,
   "id": "34bc0edb",
   "metadata": {},
   "outputs": [
    {
     "data": {
      "text/html": [
       "<div>\n",
       "<style scoped>\n",
       "    .dataframe tbody tr th:only-of-type {\n",
       "        vertical-align: middle;\n",
       "    }\n",
       "\n",
       "    .dataframe tbody tr th {\n",
       "        vertical-align: top;\n",
       "    }\n",
       "\n",
       "    .dataframe thead th {\n",
       "        text-align: right;\n",
       "    }\n",
       "</style>\n",
       "<table border=\"1\" class=\"dataframe\">\n",
       "  <thead>\n",
       "    <tr style=\"text-align: right;\">\n",
       "      <th></th>\n",
       "      <th>subject</th>\n",
       "      <th>aSubID</th>\n",
       "      <th>block_name</th>\n",
       "      <th>stim_chan</th>\n",
       "      <th>record_chan</th>\n",
       "      <th>sc1</th>\n",
       "      <th>sc2</th>\n",
       "      <th>rc1</th>\n",
       "      <th>rc2</th>\n",
       "      <th>stim_shank</th>\n",
       "      <th>...</th>\n",
       "      <th>pks_time_3</th>\n",
       "      <th>pks_time_4</th>\n",
       "      <th>pks_time_5</th>\n",
       "      <th>pks_time_6</th>\n",
       "      <th>pks_time_7</th>\n",
       "      <th>pks_time_8</th>\n",
       "      <th>pks_time_9</th>\n",
       "      <th>pks_time_10</th>\n",
       "      <th>pks_time_11</th>\n",
       "      <th>pks_time_12</th>\n",
       "    </tr>\n",
       "  </thead>\n",
       "  <tbody>\n",
       "    <tr>\n",
       "      <th>0</th>\n",
       "      <td>S21_166_TM</td>\n",
       "      <td>S01_166</td>\n",
       "      <td>E21-725_0010</td>\n",
       "      <td>LPCN1-LPCN2</td>\n",
       "      <td>LORF1-LORF2</td>\n",
       "      <td>LPCN1</td>\n",
       "      <td>LPCN2</td>\n",
       "      <td>LORF1</td>\n",
       "      <td>LORF2</td>\n",
       "      <td>0</td>\n",
       "      <td>...</td>\n",
       "      <td>460.0</td>\n",
       "      <td>NaN</td>\n",
       "      <td>NaN</td>\n",
       "      <td>NaN</td>\n",
       "      <td>NaN</td>\n",
       "      <td>NaN</td>\n",
       "      <td>NaN</td>\n",
       "      <td>NaN</td>\n",
       "      <td>NaN</td>\n",
       "      <td>NaN</td>\n",
       "    </tr>\n",
       "    <tr>\n",
       "      <th>1</th>\n",
       "      <td>S21_166_TM</td>\n",
       "      <td>S01_166</td>\n",
       "      <td>E21-725_0010</td>\n",
       "      <td>LPCN1-LPCN2</td>\n",
       "      <td>LORF2-LORF3</td>\n",
       "      <td>LPCN1</td>\n",
       "      <td>LPCN2</td>\n",
       "      <td>LORF2</td>\n",
       "      <td>LORF3</td>\n",
       "      <td>0</td>\n",
       "      <td>...</td>\n",
       "      <td>442.0</td>\n",
       "      <td>NaN</td>\n",
       "      <td>NaN</td>\n",
       "      <td>NaN</td>\n",
       "      <td>NaN</td>\n",
       "      <td>NaN</td>\n",
       "      <td>NaN</td>\n",
       "      <td>NaN</td>\n",
       "      <td>NaN</td>\n",
       "      <td>NaN</td>\n",
       "    </tr>\n",
       "    <tr>\n",
       "      <th>2</th>\n",
       "      <td>S21_166_TM</td>\n",
       "      <td>S01_166</td>\n",
       "      <td>E21-725_0010</td>\n",
       "      <td>LPCN1-LPCN2</td>\n",
       "      <td>LORF3-LORF4</td>\n",
       "      <td>LPCN1</td>\n",
       "      <td>LPCN2</td>\n",
       "      <td>LORF3</td>\n",
       "      <td>LORF4</td>\n",
       "      <td>0</td>\n",
       "      <td>...</td>\n",
       "      <td>73.0</td>\n",
       "      <td>167.0</td>\n",
       "      <td>476.0</td>\n",
       "      <td>NaN</td>\n",
       "      <td>NaN</td>\n",
       "      <td>NaN</td>\n",
       "      <td>NaN</td>\n",
       "      <td>NaN</td>\n",
       "      <td>NaN</td>\n",
       "      <td>NaN</td>\n",
       "    </tr>\n",
       "    <tr>\n",
       "      <th>3</th>\n",
       "      <td>S21_166_TM</td>\n",
       "      <td>S01_166</td>\n",
       "      <td>E21-725_0010</td>\n",
       "      <td>LPCN1-LPCN2</td>\n",
       "      <td>LORF4-LORF5</td>\n",
       "      <td>LPCN1</td>\n",
       "      <td>LPCN2</td>\n",
       "      <td>LORF4</td>\n",
       "      <td>LORF5</td>\n",
       "      <td>0</td>\n",
       "      <td>...</td>\n",
       "      <td>157.0</td>\n",
       "      <td>454.0</td>\n",
       "      <td>NaN</td>\n",
       "      <td>NaN</td>\n",
       "      <td>NaN</td>\n",
       "      <td>NaN</td>\n",
       "      <td>NaN</td>\n",
       "      <td>NaN</td>\n",
       "      <td>NaN</td>\n",
       "      <td>NaN</td>\n",
       "    </tr>\n",
       "    <tr>\n",
       "      <th>4</th>\n",
       "      <td>S21_166_TM</td>\n",
       "      <td>S01_166</td>\n",
       "      <td>E21-725_0010</td>\n",
       "      <td>LPCN1-LPCN2</td>\n",
       "      <td>LORF5-LORF6</td>\n",
       "      <td>LPCN1</td>\n",
       "      <td>LPCN2</td>\n",
       "      <td>LORF5</td>\n",
       "      <td>LORF6</td>\n",
       "      <td>0</td>\n",
       "      <td>...</td>\n",
       "      <td>444.0</td>\n",
       "      <td>NaN</td>\n",
       "      <td>NaN</td>\n",
       "      <td>NaN</td>\n",
       "      <td>NaN</td>\n",
       "      <td>NaN</td>\n",
       "      <td>NaN</td>\n",
       "      <td>NaN</td>\n",
       "      <td>NaN</td>\n",
       "      <td>NaN</td>\n",
       "    </tr>\n",
       "  </tbody>\n",
       "</table>\n",
       "<p>5 rows × 70 columns</p>\n",
       "</div>"
      ],
      "text/plain": [
       "      subject   aSubID    block_name    stim_chan  record_chan    sc1    sc2   \n",
       "0  S21_166_TM  S01_166  E21-725_0010  LPCN1-LPCN2  LORF1-LORF2  LPCN1  LPCN2  \\\n",
       "1  S21_166_TM  S01_166  E21-725_0010  LPCN1-LPCN2  LORF2-LORF3  LPCN1  LPCN2   \n",
       "2  S21_166_TM  S01_166  E21-725_0010  LPCN1-LPCN2  LORF3-LORF4  LPCN1  LPCN2   \n",
       "3  S21_166_TM  S01_166  E21-725_0010  LPCN1-LPCN2  LORF4-LORF5  LPCN1  LPCN2   \n",
       "4  S21_166_TM  S01_166  E21-725_0010  LPCN1-LPCN2  LORF5-LORF6  LPCN1  LPCN2   \n",
       "\n",
       "     rc1    rc2  stim_shank  ...  pks_time_3  pks_time_4  pks_time_5   \n",
       "0  LORF1  LORF2           0  ...       460.0         NaN         NaN  \\\n",
       "1  LORF2  LORF3           0  ...       442.0         NaN         NaN   \n",
       "2  LORF3  LORF4           0  ...        73.0       167.0       476.0   \n",
       "3  LORF4  LORF5           0  ...       157.0       454.0         NaN   \n",
       "4  LORF5  LORF6           0  ...       444.0         NaN         NaN   \n",
       "\n",
       "   pks_time_6  pks_time_7  pks_time_8  pks_time_9  pks_time_10  pks_time_11   \n",
       "0         NaN         NaN         NaN         NaN          NaN          NaN  \\\n",
       "1         NaN         NaN         NaN         NaN          NaN          NaN   \n",
       "2         NaN         NaN         NaN         NaN          NaN          NaN   \n",
       "3         NaN         NaN         NaN         NaN          NaN          NaN   \n",
       "4         NaN         NaN         NaN         NaN          NaN          NaN   \n",
       "\n",
       "   pks_time_12  \n",
       "0          NaN  \n",
       "1          NaN  \n",
       "2          NaN  \n",
       "3          NaN  \n",
       "4          NaN  \n",
       "\n",
       "[5 rows x 70 columns]"
      ]
     },
     "execution_count": 4,
     "metadata": {},
     "output_type": "execute_result"
    }
   ],
   "source": [
    "metaT = pd.read_csv('table_CCEPnewpipOutput_wholebrain_anatomical_info_activationRedone2.csv')\n",
    "metaT.head()"
   ]
  },
  {
   "cell_type": "markdown",
   "id": "f16bb793",
   "metadata": {},
   "source": [
    "## load data"
   ]
  },
  {
   "cell_type": "code",
   "execution_count": 168,
   "id": "577dd3f6",
   "metadata": {},
   "outputs": [],
   "source": [
    "dat = np.load('UMAP/ALLDATA_semisupervise/input_dat1_untransformed.npy')\n",
    "# save as a mat file\n",
    "#dat_dic = {'dat': dat}\n",
    "#io.savemat( 'UMAP/ALLDATA_semisupervise/input_dat1_untransformed.mat',dat_dic)"
   ]
  },
  {
   "cell_type": "code",
   "execution_count": 6,
   "id": "5258deea",
   "metadata": {},
   "outputs": [
    {
     "data": {
      "text/plain": [
       "(58598, 2580)"
      ]
     },
     "execution_count": 6,
     "metadata": {},
     "output_type": "execute_result"
    }
   ],
   "source": [
    "dat.shape"
   ]
  },
  {
   "cell_type": "code",
   "execution_count": 15,
   "id": "83ea49a7",
   "metadata": {
    "scrolled": true
   },
   "outputs": [
    {
     "name": "stdout",
     "output_type": "stream",
     "text": [
      "(26,)\n",
      "['S21_166_TM' 'S21_167_MQ' 'S21_169_BH' 'S21_170_JL' 'S21_171_MM'\n",
      " 'S21_172_KS' 'S22_176_LB' 'S22_177_JM' 'S22_178_AF' 'S22_181_CB'\n",
      " 'S22_182_DH' 'S22_183_CR' 'S22_185_TW' 'S22_188_CB' 'S22_189_LMA'\n",
      " 'S22_190_AS' 'S22_192_LG' 'S22_193_AM' 'S23_194_PS' 'S23_195_MZ'\n",
      " 'S23_197_TA' 'S23_198_JP' 'S23_199_GB' 'S23_201_JG' 'S23_202_KC'\n",
      " 'S23_205_LLC']\n"
     ]
    }
   ],
   "source": [
    "sblist = metaT.subject.unique()\n",
    "sblist = np.delete(sblist, np.where(sblist=='S23_196_HL'))\n",
    "print(sblist.shape)\n",
    "print(sblist)\n",
    "mat = mergeMat([sblist[0]], keys=['filteridx_metaT','Vrpw','Vrpc', 'Vrph'],\n",
    "              inputDir = 'UMAP_learn/resample3')\n",
    "n1=mat['Vrpw'].shape[1]\n",
    "n2=mat['Vrpc'].shape[1]"
   ]
  },
  {
   "cell_type": "code",
   "execution_count": 18,
   "id": "ff15a779",
   "metadata": {},
   "outputs": [
    {
     "data": {
      "text/plain": [
       "(58598, 73)"
      ]
     },
     "execution_count": 18,
     "metadata": {},
     "output_type": "execute_result"
    }
   ],
   "source": [
    "# import results from UMAP supervised training using anatomical information\n",
    "brainInfo = pd.read_csv('UMAP/ALLDATA_semisupervise/brainInfo.csv')\n",
    "brainInfo.shape"
   ]
  },
  {
   "cell_type": "code",
   "execution_count": 19,
   "id": "236b41a3",
   "metadata": {},
   "outputs": [
    {
     "data": {
      "text/plain": [
       "58598"
      ]
     },
     "execution_count": 19,
     "metadata": {},
     "output_type": "execute_result"
    }
   ],
   "source": [
    "isnoise = loadtxt('UMAP/ALLDATA_semisupervise/isnoise.txt',\n",
    "                delimiter=\"\\t\")\n",
    "cleanFeatures = loadtxt('UMAP/ALLDATA_semisupervise/cleanFeatures.txt',\n",
    "                delimiter=\"\\t\",dtype='str')\n",
    "len(cleanFeatures)"
   ]
  },
  {
   "cell_type": "code",
   "execution_count": 103,
   "id": "6faf4cbf",
   "metadata": {},
   "outputs": [
    {
     "name": "stdout",
     "output_type": "stream",
     "text": [
      "['COR-ipsi', 'THAL-contr', 'THAL-ipsi', 'COR-contr']\n"
     ]
    }
   ],
   "source": [
    "ftypes = list(set(cleanFeatures))\n",
    "print(ftypes)"
   ]
  },
  {
   "cell_type": "markdown",
   "id": "21cab7a4",
   "metadata": {},
   "source": [
    "### Within-subject cluster permutation test for each category"
   ]
  },
  {
   "cell_type": "code",
   "execution_count": 216,
   "id": "eddc5ccd",
   "metadata": {},
   "outputs": [
    {
     "name": "stdout",
     "output_type": "stream",
     "text": [
      "Group1: THAL-contr\n",
      "(619, 73)\n",
      "(619, 2580)\n"
     ]
    }
   ],
   "source": [
    "it1 = 1\n",
    "\n",
    "print('Group1: %s'%(ftypes[it1]))\n",
    "filterBoolean = (cleanFeatures==ftypes[it1])&( isnoise==0) \n",
    "brain_info1 = brainInfo[filterBoolean]\n",
    "print(brain_info1.shape)\n",
    "d1_ = dat[filterBoolean]\n",
    "print(d1_.shape)\n",
    "# impute missing data\n",
    "# Preprocess - simulate nan values, which are few\n",
    "pipe = make_pipeline(SimpleImputer(strategy=\"mean\"))\n",
    "d1 = pipe.fit_transform(d1_.copy())"
   ]
  },
  {
   "cell_type": "code",
   "execution_count": 217,
   "id": "fe9b4b3f",
   "metadata": {},
   "outputs": [
    {
     "data": {
      "text/plain": [
       "<matplotlib.colorbar.Colorbar at 0x7f8f909f0f40>"
      ]
     },
     "execution_count": 217,
     "metadata": {},
     "output_type": "execute_result"
    },
    {
     "data": {
      "image/png": "[encoded data removed]",
      "text/plain": [
       "<Figure size 640x480 with 2 Axes>"
      ]
     },
     "metadata": {},
     "output_type": "display_data"
    }
   ],
   "source": [
    "ntime=60\n",
    "tG1 = tscore_1sample(d1)\n",
    "plt.close()\n",
    "plt.figure()\n",
    "sp1=plt.imshow(np.rot90(tG1[0:n1].reshape(ntime, -1)),\n",
    "          aspect=2.1)\n",
    "plt.colorbar(sp1,shrink=0.6)"
   ]
  },
  {
   "cell_type": "code",
   "execution_count": 218,
   "id": "569c8475",
   "metadata": {},
   "outputs": [
    {
     "name": "stdout",
     "output_type": "stream",
     "text": [
      "S21_166_TM does not have group1 data...\n",
      "S21_167_MQ does not have group1 data...\n",
      "S21_170_JL does not have group1 data...\n",
      "S22_176_LB does not have group1 data...\n",
      "S22_190_AS does not have group1 data...\n",
      "S22_192_LG does not have group1 data...\n"
     ]
    },
    {
     "data": {
      "text/plain": [
       "(20, 2580)"
      ]
     },
     "execution_count": 218,
     "metadata": {},
     "output_type": "execute_result"
    }
   ],
   "source": [
    "withinsb_Tscores = []\n",
    "\n",
    "for i,sb in enumerate(sblist):\n",
    "    idx1 = np.where(brain_info1.subject==sb)[0]\n",
    "    if idx1.shape[0]==0:\n",
    "        print(sb+' does not have group1 data...')\n",
    "        continue\n",
    "        \n",
    "    sbd1 = d1[idx1,:]\n",
    "    sbt = tscore_1sample(sbd1)\n",
    "    #sbt = tscore_1sample(sbd1)-tscore_1sample(sbd2)\n",
    "    withinsb_Tscores.append(sbt) # within-subject comparison of t-scores of each categories\n",
    "    \n",
    "withinsb_Tscores = np.array(withinsb_Tscores)\n",
    "withinsb_Tscores.shape"
   ]
  },
  {
   "cell_type": "code",
   "execution_count": 222,
   "id": "ed0b7b76",
   "metadata": {},
   "outputs": [
    {
     "data": {
      "text/plain": [
       "<matplotlib.colorbar.Colorbar at 0x7f8f85af8610>"
      ]
     },
     "execution_count": 222,
     "metadata": {},
     "output_type": "execute_result"
    },
    {
     "data": {
      "image/png": "[encoded data removed]",
      "text/plain": [
       "<Figure size 640x480 with 2 Axes>"
      ]
     },
     "metadata": {},
     "output_type": "display_data"
    }
   ],
   "source": [
    "plt.close()\n",
    "plt.figure()\n",
    "dat2show = rotate(np.mean(withinsb_Tscores[:,0:n1],axis=0).reshape(ntime, -1))\n",
    "p = plt.imshow(dat2show, aspect=2.1, vmin=3, vmax=10)\n",
    "plt.colorbar(p,shrink=0.6)"
   ]
  },
  {
   "cell_type": "code",
   "execution_count": 227,
   "id": "ee90cf11",
   "metadata": {},
   "outputs": [
    {
     "name": "stdout",
     "output_type": "stream",
     "text": [
      "Initial cluster threshold is 10\n",
      "Degrees of freedom is 618\n",
      "stat_fun(H1): min=-24.618568 max=33.380870\n",
      "Running initial clustering …\n",
      "Found 1 cluster\n"
     ]
    },
    {
     "data": {
      "application/vnd.jupyter.widget-view+json": {
       "model_id": "333658acb33346cf998da7229375a726",
       "version_major": 2,
       "version_minor": 0
      },
      "text/plain": [
       "  0%|          | Permuting : 0/4999 [00:00<?,       ?it/s]"
      ]
     },
     "metadata": {},
     "output_type": "display_data"
    },
    {
     "data": {
      "image/png": "[encoded data removed]",
      "text/plain": [
       "<Figure size 640x480 with 2 Axes>"
      ]
     },
     "metadata": {},
     "output_type": "display_data"
    },
    {
     "data": {
      "text/plain": [
       "{'T_obs': array([[ -6.6573664 ,  -8.30801378, -10.01576852, ..., -14.30142511,\n",
       "         -16.22147556, -19.45977379],\n",
       "        [ -6.63721127,  -8.35789873,  -9.67747121, ..., -15.283322  ,\n",
       "         -16.51620844, -19.33183782],\n",
       "        [ -6.54930703,  -8.38259591,  -9.16427754, ..., -14.89456896,\n",
       "         -15.22197397, -18.19069723],\n",
       "        ...,\n",
       "        [ -6.57284706,  -6.90375547,  -4.74856034, ..., -20.36762252,\n",
       "         -21.62318003, -23.43327692],\n",
       "        [ -7.86171594,  -7.8821335 ,  -5.84906722, ..., -19.23023402,\n",
       "         -23.95951937, -24.21245008],\n",
       "        [ -9.15191729,  -8.84311148,  -7.35330214, ..., -16.84234553,\n",
       "         -21.34063054, -23.44067716]]),\n",
       " 'clusters': array([[[False, False, False, ..., False, False, False],\n",
       "         [False, False, False, ..., False, False, False],\n",
       "         [False, False, False, ..., False, False, False],\n",
       "         ...,\n",
       "         [False, False, False, ..., False, False, False],\n",
       "         [False, False, False, ..., False, False, False],\n",
       "         [False, False, False, ..., False, False, False]]]),\n",
       " 'cluster_p_values': array([0.0002]),\n",
       " 'H0': array([4265.07648653,    0.        ,    0.        , ...,    0.        ,\n",
       "           0.        ,    0.        ]),\n",
       " 'T_obs_thr': array([[nan, nan, nan, ..., nan, nan, nan],\n",
       "        [nan, nan, nan, ..., nan, nan, nan],\n",
       "        [nan, nan, nan, ..., nan, nan, nan],\n",
       "        ...,\n",
       "        [nan, nan, nan, ..., nan, nan, nan],\n",
       "        [nan, nan, nan, ..., nan, nan, nan],\n",
       "        [nan, nan, nan, ..., nan, nan, nan]]),\n",
       " 't_idx': 41,\n",
       " 'f_idx': 6}"
      ]
     },
     "execution_count": 227,
     "metadata": {},
     "output_type": "execute_result"
    }
   ],
   "source": [
    "# run test\n",
    "pw1 = d1[:,0:n1].reshape(d1.shape[0], ntime,-1)\n",
    "MNE1SampleSpectraSigTest(pw1, ifsave=1, threshold=10,\n",
    "                         outname='Contrasted-nonactivated/mnePermutationCluster1Sample-Ttest_sigClsts_grouplogpower_%s.mat'%(ftypes[it1]))"
   ]
  },
  {
   "cell_type": "code",
   "execution_count": null,
   "id": "21cbb611",
   "metadata": {},
   "outputs": [],
   "source": []
  }
 ],
 "metadata": {
  "kernelspec": {
   "display_name": "Python 3 (ipykernel)",
   "language": "python",
   "name": "python3"
  },
  "language_info": {
   "codemirror_mode": {
    "name": "ipython",
    "version": 3
   },
   "file_extension": ".py",
   "mimetype": "text/x-python",
   "name": "python",
   "nbconvert_exporter": "python",
   "pygments_lexer": "ipython3",
   "version": "3.9.16"
  }
 },
 "nbformat": 4,
 "nbformat_minor": 5
}
