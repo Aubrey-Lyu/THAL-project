{
 "cells": [
  {
   "cell_type": "markdown",
   "id": "43875142",
   "metadata": {},
   "source": [
    "# Paired t-test between groups - Spectrograms"
   ]
  },
  {
   "cell_type": "code",
   "execution_count": 44,
   "id": "3f546df5",
   "metadata": {},
   "outputs": [],
   "source": [
    "import numpy as np\n",
    "import matplotlib.pyplot as plt\n",
    "import scipy.stats\n",
    "import os\n",
    "import mne\n",
    "from mne.time_frequency import tfr_morlet\n",
    "import pandas as pd\n",
    "import scipy.io as io\n",
    "from numpy import loadtxt\n",
    "from sklearn.pipeline import make_pipeline\n",
    "from sklearn.impute import SimpleImputer\n",
    "import sklearn.metrics.pairwise as pairwise\n",
    "from mpl_toolkits.axes_grid1 import make_axes_locatable"
   ]
  },
  {
   "cell_type": "code",
   "execution_count": 3,
   "id": "1d1d926a",
   "metadata": {},
   "outputs": [],
   "source": [
    "import sys\n",
    "sys.path.append('/data/dian/Dropbox/Stanford_Matters/data/THAL/UMAP') \n",
    "import customFunctions\n",
    "import importlib\n",
    "importlib.reload(customFunctions)\n",
    "from customFunctions import *"
   ]
  },
  {
   "cell_type": "code",
   "execution_count": 4,
   "id": "90f35c76",
   "metadata": {},
   "outputs": [],
   "source": [
    "os.chdir('/data/dian/Dropbox/Stanford_Matters/data/THAL/CCEP/results/explore5_locked')"
   ]
  },
  {
   "cell_type": "code",
   "execution_count": 5,
   "id": "34bc0edb",
   "metadata": {},
   "outputs": [
    {
     "data": {
      "text/html": [
       "<div>\n",
       "<style scoped>\n",
       "    .dataframe tbody tr th:only-of-type {\n",
       "        vertical-align: middle;\n",
       "    }\n",
       "\n",
       "    .dataframe tbody tr th {\n",
       "        vertical-align: top;\n",
       "    }\n",
       "\n",
       "    .dataframe thead th {\n",
       "        text-align: right;\n",
       "    }\n",
       "</style>\n",
       "<table border=\"1\" class=\"dataframe\">\n",
       "  <thead>\n",
       "    <tr style=\"text-align: right;\">\n",
       "      <th></th>\n",
       "      <th>subject</th>\n",
       "      <th>aSubID</th>\n",
       "      <th>block_name</th>\n",
       "      <th>stim_chan</th>\n",
       "      <th>record_chan</th>\n",
       "      <th>sc1</th>\n",
       "      <th>sc2</th>\n",
       "      <th>rc1</th>\n",
       "      <th>rc2</th>\n",
       "      <th>stim_shank</th>\n",
       "      <th>...</th>\n",
       "      <th>pks_time_3</th>\n",
       "      <th>pks_time_4</th>\n",
       "      <th>pks_time_5</th>\n",
       "      <th>pks_time_6</th>\n",
       "      <th>pks_time_7</th>\n",
       "      <th>pks_time_8</th>\n",
       "      <th>pks_time_9</th>\n",
       "      <th>pks_time_10</th>\n",
       "      <th>pks_time_11</th>\n",
       "      <th>pks_time_12</th>\n",
       "    </tr>\n",
       "  </thead>\n",
       "  <tbody>\n",
       "    <tr>\n",
       "      <th>0</th>\n",
       "      <td>S21_166_TM</td>\n",
       "      <td>S01_166</td>\n",
       "      <td>E21-725_0010</td>\n",
       "      <td>LPCN1-LPCN2</td>\n",
       "      <td>LORF1-LORF2</td>\n",
       "      <td>LPCN1</td>\n",
       "      <td>LPCN2</td>\n",
       "      <td>LORF1</td>\n",
       "      <td>LORF2</td>\n",
       "      <td>0</td>\n",
       "      <td>...</td>\n",
       "      <td>460.0</td>\n",
       "      <td>NaN</td>\n",
       "      <td>NaN</td>\n",
       "      <td>NaN</td>\n",
       "      <td>NaN</td>\n",
       "      <td>NaN</td>\n",
       "      <td>NaN</td>\n",
       "      <td>NaN</td>\n",
       "      <td>NaN</td>\n",
       "      <td>NaN</td>\n",
       "    </tr>\n",
       "    <tr>\n",
       "      <th>1</th>\n",
       "      <td>S21_166_TM</td>\n",
       "      <td>S01_166</td>\n",
       "      <td>E21-725_0010</td>\n",
       "      <td>LPCN1-LPCN2</td>\n",
       "      <td>LORF2-LORF3</td>\n",
       "      <td>LPCN1</td>\n",
       "      <td>LPCN2</td>\n",
       "      <td>LORF2</td>\n",
       "      <td>LORF3</td>\n",
       "      <td>0</td>\n",
       "      <td>...</td>\n",
       "      <td>442.0</td>\n",
       "      <td>NaN</td>\n",
       "      <td>NaN</td>\n",
       "      <td>NaN</td>\n",
       "      <td>NaN</td>\n",
       "      <td>NaN</td>\n",
       "      <td>NaN</td>\n",
       "      <td>NaN</td>\n",
       "      <td>NaN</td>\n",
       "      <td>NaN</td>\n",
       "    </tr>\n",
       "    <tr>\n",
       "      <th>2</th>\n",
       "      <td>S21_166_TM</td>\n",
       "      <td>S01_166</td>\n",
       "      <td>E21-725_0010</td>\n",
       "      <td>LPCN1-LPCN2</td>\n",
       "      <td>LORF3-LORF4</td>\n",
       "      <td>LPCN1</td>\n",
       "      <td>LPCN2</td>\n",
       "      <td>LORF3</td>\n",
       "      <td>LORF4</td>\n",
       "      <td>0</td>\n",
       "      <td>...</td>\n",
       "      <td>73.0</td>\n",
       "      <td>167.0</td>\n",
       "      <td>476.0</td>\n",
       "      <td>NaN</td>\n",
       "      <td>NaN</td>\n",
       "      <td>NaN</td>\n",
       "      <td>NaN</td>\n",
       "      <td>NaN</td>\n",
       "      <td>NaN</td>\n",
       "      <td>NaN</td>\n",
       "    </tr>\n",
       "    <tr>\n",
       "      <th>3</th>\n",
       "      <td>S21_166_TM</td>\n",
       "      <td>S01_166</td>\n",
       "      <td>E21-725_0010</td>\n",
       "      <td>LPCN1-LPCN2</td>\n",
       "      <td>LORF4-LORF5</td>\n",
       "      <td>LPCN1</td>\n",
       "      <td>LPCN2</td>\n",
       "      <td>LORF4</td>\n",
       "      <td>LORF5</td>\n",
       "      <td>0</td>\n",
       "      <td>...</td>\n",
       "      <td>157.0</td>\n",
       "      <td>454.0</td>\n",
       "      <td>NaN</td>\n",
       "      <td>NaN</td>\n",
       "      <td>NaN</td>\n",
       "      <td>NaN</td>\n",
       "      <td>NaN</td>\n",
       "      <td>NaN</td>\n",
       "      <td>NaN</td>\n",
       "      <td>NaN</td>\n",
       "    </tr>\n",
       "    <tr>\n",
       "      <th>4</th>\n",
       "      <td>S21_166_TM</td>\n",
       "      <td>S01_166</td>\n",
       "      <td>E21-725_0010</td>\n",
       "      <td>LPCN1-LPCN2</td>\n",
       "      <td>LORF5-LORF6</td>\n",
       "      <td>LPCN1</td>\n",
       "      <td>LPCN2</td>\n",
       "      <td>LORF5</td>\n",
       "      <td>LORF6</td>\n",
       "      <td>0</td>\n",
       "      <td>...</td>\n",
       "      <td>444.0</td>\n",
       "      <td>NaN</td>\n",
       "      <td>NaN</td>\n",
       "      <td>NaN</td>\n",
       "      <td>NaN</td>\n",
       "      <td>NaN</td>\n",
       "      <td>NaN</td>\n",
       "      <td>NaN</td>\n",
       "      <td>NaN</td>\n",
       "      <td>NaN</td>\n",
       "    </tr>\n",
       "  </tbody>\n",
       "</table>\n",
       "<p>5 rows × 70 columns</p>\n",
       "</div>"
      ],
      "text/plain": [
       "      subject   aSubID    block_name    stim_chan  record_chan    sc1    sc2   \n",
       "0  S21_166_TM  S01_166  E21-725_0010  LPCN1-LPCN2  LORF1-LORF2  LPCN1  LPCN2  \\\n",
       "1  S21_166_TM  S01_166  E21-725_0010  LPCN1-LPCN2  LORF2-LORF3  LPCN1  LPCN2   \n",
       "2  S21_166_TM  S01_166  E21-725_0010  LPCN1-LPCN2  LORF3-LORF4  LPCN1  LPCN2   \n",
       "3  S21_166_TM  S01_166  E21-725_0010  LPCN1-LPCN2  LORF4-LORF5  LPCN1  LPCN2   \n",
       "4  S21_166_TM  S01_166  E21-725_0010  LPCN1-LPCN2  LORF5-LORF6  LPCN1  LPCN2   \n",
       "\n",
       "     rc1    rc2  stim_shank  ...  pks_time_3  pks_time_4  pks_time_5   \n",
       "0  LORF1  LORF2           0  ...       460.0         NaN         NaN  \\\n",
       "1  LORF2  LORF3           0  ...       442.0         NaN         NaN   \n",
       "2  LORF3  LORF4           0  ...        73.0       167.0       476.0   \n",
       "3  LORF4  LORF5           0  ...       157.0       454.0         NaN   \n",
       "4  LORF5  LORF6           0  ...       444.0         NaN         NaN   \n",
       "\n",
       "   pks_time_6  pks_time_7  pks_time_8  pks_time_9  pks_time_10  pks_time_11   \n",
       "0         NaN         NaN         NaN         NaN          NaN          NaN  \\\n",
       "1         NaN         NaN         NaN         NaN          NaN          NaN   \n",
       "2         NaN         NaN         NaN         NaN          NaN          NaN   \n",
       "3         NaN         NaN         NaN         NaN          NaN          NaN   \n",
       "4         NaN         NaN         NaN         NaN          NaN          NaN   \n",
       "\n",
       "   pks_time_12  \n",
       "0          NaN  \n",
       "1          NaN  \n",
       "2          NaN  \n",
       "3          NaN  \n",
       "4          NaN  \n",
       "\n",
       "[5 rows x 70 columns]"
      ]
     },
     "execution_count": 5,
     "metadata": {},
     "output_type": "execute_result"
    }
   ],
   "source": [
    "metaT = pd.read_csv('table_CCEPnewpipOutput_wholebrain_anatomical_info_activationRedone2.csv')\n",
    "metaT.head()"
   ]
  },
  {
   "cell_type": "markdown",
   "id": "f16bb793",
   "metadata": {},
   "source": [
    "## Activated spectra minus non-activated spectra for each individual"
   ]
  },
  {
   "cell_type": "code",
   "execution_count": 6,
   "id": "83ea49a7",
   "metadata": {},
   "outputs": [
    {
     "name": "stdout",
     "output_type": "stream",
     "text": [
      "(26,)\n",
      "['S21_166_TM' 'S21_167_MQ' 'S21_169_BH' 'S21_170_JL' 'S21_171_MM'\n",
      " 'S21_172_KS' 'S22_176_LB' 'S22_177_JM' 'S22_178_AF' 'S22_181_CB'\n",
      " 'S22_182_DH' 'S22_183_CR' 'S22_185_TW' 'S22_188_CB' 'S22_189_LMA'\n",
      " 'S22_190_AS' 'S22_192_LG' 'S22_193_AM' 'S23_194_PS' 'S23_195_MZ'\n",
      " 'S23_197_TA' 'S23_198_JP' 'S23_199_GB' 'S23_201_JG' 'S23_202_KC'\n",
      " 'S23_205_LLC']\n"
     ]
    }
   ],
   "source": [
    "sblist = metaT.subject.unique()\n",
    "sblist = np.delete(sblist, np.where(sblist=='S23_196_HL'))\n",
    "print(sblist.shape)\n",
    "print(sblist)\n",
    "mat = mergeMat(sblist, keys=['filteridx_metaT','Vrpw','Vrpc', 'Vrph'],\n",
    "              inputDir = 'UMAP_learn/resample3')\n",
    "n1=mat['Vrpw'].shape[1]\n",
    "n2=mat['Vrpc'].shape[1]"
   ]
  },
  {
   "cell_type": "code",
   "execution_count": 7,
   "id": "561d63c0",
   "metadata": {},
   "outputs": [],
   "source": [
    "dirbase = '/home/dian/Desktop/THAL/UMAP'\n",
    "anot = np.array([])\n",
    "for sb in sblist:\n",
    "    fn = dirbase+'/WITHINSBJ_semisupervise/actLearn_2clusters_anot_%s.txt' %sb\n",
    "    content = np.loadtxt(fn).astype(np.int64)\n",
    "    anot = np.concatenate((anot, content), axis=0)"
   ]
  },
  {
   "cell_type": "code",
   "execution_count": 8,
   "id": "398c0c47",
   "metadata": {},
   "outputs": [
    {
     "name": "stdout",
     "output_type": "stream",
     "text": [
      "80791\n",
      "(249893, 2580)\n"
     ]
    }
   ],
   "source": [
    "anot = np.array(anot)\n",
    "actIdx = np.where(anot == 2)[0] # NOTE: 'anot' is already filteridx_metaT filtered!\n",
    "noactIdx = np.where(anot == 1)[0]\n",
    "\n",
    "print(len(actIdx))\n",
    "\n",
    "dat0 = np.concatenate((mat['Vrpw'], mat['Vrpc']), axis=1)\n",
    "print(dat0.shape)\n",
    "\n",
    "# loop through each stimulation channel, to get the activation pattern contracted with the non-activated pattern; \n",
    "#i.e. using each channel's non-activation pattern as control\n",
    "allsublist = metaT['subject'][mat['filteridx_metaT'][:,0]].tolist()\n",
    "allstimlist = metaT['stim_chan'][mat['filteridx_metaT'][:,0]].tolist()\n",
    "allstimID = [i+' '+j for i,j in zip(allsublist, allstimlist)]\n"
   ]
  },
  {
   "cell_type": "code",
   "execution_count": 9,
   "id": "05eaa735",
   "metadata": {},
   "outputs": [
    {
     "name": "stderr",
     "output_type": "stream",
     "text": [
      "/tmp/ipykernel_593942/1360297360.py:10: RuntimeWarning: Mean of empty slice\n",
      "  dat0_res[sactIdx,:] = dat0[sactIdx,:] - np.nanmean(dat0[snonIdx,:], axis = 0) #subtract row vector from matrix\n"
     ]
    }
   ],
   "source": [
    "dat0_res = dat0.copy()\n",
    "N_noact = [] # each case corresponding to a stimID - check for unstable pattern when the number to average is too low\n",
    "N_actrate = []\n",
    "for stimID in set(allstimID):\n",
    "    stimIdx = set(np.where(np.array(allstimID) == stimID)[0])\n",
    "    sactIdx = list(stimIdx.intersection(actIdx))\n",
    "    snonIdx = list(stimIdx.intersection(noactIdx))\n",
    "    actrate = len(sactIdx)/len(stimIdx)\n",
    "    \n",
    "    dat0_res[sactIdx,:] = dat0[sactIdx,:] - np.nanmean(dat0[snonIdx,:], axis = 0) #subtract row vector from matrix\n",
    "    N_noact.append(len(snonIdx))\n",
    "    N_actrate.append(actrate)\n",
    "    "
   ]
  },
  {
   "cell_type": "code",
   "execution_count": 10,
   "id": "2fc30ea4",
   "metadata": {},
   "outputs": [
    {
     "name": "stdout",
     "output_type": "stream",
     "text": [
      "(249893, 2580)\n",
      "249893\n",
      "80791\n"
     ]
    }
   ],
   "source": [
    "print(dat0_res.shape)\n",
    "print(len(anot))\n",
    "print(len(actIdx))\n",
    "#del dat0"
   ]
  },
  {
   "cell_type": "code",
   "execution_count": 11,
   "id": "67680f2c",
   "metadata": {},
   "outputs": [
    {
     "data": {
      "text/plain": [
       "80673"
      ]
     },
     "execution_count": 11,
     "metadata": {},
     "output_type": "execute_result"
    }
   ],
   "source": [
    "stimID_exclude  = 'S21_167_MQ RE1-RE2'\n",
    "estimIdx = set(np.where(np.array(allstimID) == stimID_exclude)[0])\n",
    "esactIdx = estimIdx.intersection(actIdx)\n",
    "# exclude 'S21_167_MQ RE1-RE2' as it has too few inactivated cases = 5\n",
    "actIdx = set(actIdx) - esactIdx\n",
    "actIdx = list(actIdx)\n",
    "len(actIdx)"
   ]
  },
  {
   "cell_type": "code",
   "execution_count": 12,
   "id": "eadf6f08",
   "metadata": {},
   "outputs": [
    {
     "name": "stdout",
     "output_type": "stream",
     "text": [
      "58598\n"
     ]
    }
   ],
   "source": [
    "# finalize preparing input data and anatomical information\n",
    "dat = dat0_res[actIdx,:]\n",
    "filterIdx = mat['filteridx_metaT'][actIdx,0]\n",
    "T = metaT.iloc[filterIdx,].reset_index()\n",
    "cleanfilter = (T.sCrossBorder==0) & (T.rCrossBorder==0) & (T.eudDist>5)\n",
    "# clean data\n",
    "dat = dat[cleanfilter,:]\n",
    "T = T.loc[cleanfilter,].reset_index()\n",
    "# get connectivity information\n",
    "hemis = list(map(detHemi,\n",
    "                 T.MNIout_coord_1.tolist(), T.MNIin_coord_1.tolist()\n",
    "          ))\n",
    "df = pd.DataFrame({'anatomy_conn': list(map(lambda x,y:'-'.join(str(e) for e in [x,y]),\n",
    "                  cortexLab(T.JP_label_out.tolist()),\n",
    "                  cortexLab(T.JP_label_in.tolist()))),#,\n",
    "                 # metaT.activated.tolist())),\n",
    "                   'hemis':hemis\n",
    "                  })\n",
    "df['anatomy_from'] = cortexLab(T.JP_label_out.tolist())\n",
    "df['anatomy_to']   = cortexLab(T.JP_label_in.tolist())\n",
    "df['anatomy_fromTHAL'] = thalLab(T.JP_label_out.tolist())\n",
    "df['anatomy_toTHAL'] = thalLab(T.JP_label_in.tolist())\n",
    "\n",
    "crossNet_cat = ['internet','intranet']\n",
    "df['crossNet_bin'] = list(map(lambda x,y:crossNet_cat[int(x==y)],\n",
    "                         T.Yeo7_out2, T.Yeo7_in2))\n",
    "df['crossNet'] = list(map(lambda x,y:'-'.join(str(e) for e in [x,y]),\n",
    "                         T.Yeo7_out2, T.Yeo7_in2))\n",
    "df['Hemi-crossNet_bin'] = list(map(lambda x,y:'-'.join(str(e) for e in [x,y]),\n",
    "                  df['hemis'],\n",
    "                  df['crossNet_bin']\n",
    "                         ))\n",
    "df['anatomy_from-hemi'] = df['anatomy_from'].str.cat(df['hemis'], sep='-')\n",
    "df['anatomy_conn-hemi'] = df['anatomy_conn'].str.cat(df['hemis'], sep='-')\n",
    "\n",
    "# exclude some ROIs\n",
    "excludeROI = np.invert(df['anatomy_conn'].str.contains('others'))\n",
    "df = df.loc[excludeROI,].reset_index()\n",
    "print(len(df))\n",
    "dat = dat[excludeROI,:]"
   ]
  },
  {
   "cell_type": "code",
   "execution_count": 13,
   "id": "48baac48",
   "metadata": {},
   "outputs": [
    {
     "name": "stdout",
     "output_type": "stream",
     "text": [
      "(58598, 2580)\n"
     ]
    }
   ],
   "source": [
    "print(dat.shape)"
   ]
  },
  {
   "cell_type": "code",
   "execution_count": 14,
   "id": "4d1e692e",
   "metadata": {},
   "outputs": [],
   "source": [
    "# save input data for future loading\n",
    "#np.save('UMAP/ALLDATA_semisupervise/input_dat1_untransformed.npy',dat1)"
   ]
  },
  {
   "cell_type": "code",
   "execution_count": 15,
   "id": "ff15a779",
   "metadata": {},
   "outputs": [],
   "source": [
    "# import results from UMAP supervised training using anatomical information\n",
    "brainInfo = pd.read_csv('UMAP/ALLDATA_semisupervise/brainInfo.csv')"
   ]
  },
  {
   "cell_type": "code",
   "execution_count": 16,
   "id": "236b41a3",
   "metadata": {},
   "outputs": [],
   "source": [
    "isnoise = loadtxt('UMAP/ALLDATA_semisupervise/isnoise.txt',\n",
    "                delimiter=\"\\t\")\n",
    "cleanFeatures = loadtxt('UMAP/ALLDATA_semisupervise/cleanFeatures.txt',\n",
    "                delimiter=\"\\t\",dtype='str')"
   ]
  },
  {
   "cell_type": "code",
   "execution_count": 312,
   "id": "6faf4cbf",
   "metadata": {},
   "outputs": [
    {
     "name": "stdout",
     "output_type": "stream",
     "text": [
      "['COR-ipsi', 'THAL-ipsi', 'THAL-contr', 'COR-contr']\n"
     ]
    }
   ],
   "source": [
    "ftypes = list(set(cleanFeatures))\n",
    "print(ftypes)"
   ]
  },
  {
   "cell_type": "code",
   "execution_count": 390,
   "id": "446b8e1f",
   "metadata": {},
   "outputs": [
    {
     "data": {
      "text/plain": [
       "39463"
      ]
     },
     "execution_count": 390,
     "metadata": {},
     "output_type": "execute_result"
    }
   ],
   "source": [
    "N1 = d1.shape[0]\n"
   ]
  },
  {
   "cell_type": "code",
   "execution_count": 395,
   "id": "c9276cb9",
   "metadata": {},
   "outputs": [],
   "source": [
    "sp = np.sqrt(((d1.shape[0]-1)*np.square(np.std(d1,axis=0))+(d2.shape[0]-1)*np.square(np.std(d2,axis=0)))/(d1.shape[0]+d2.shape[0]-2))"
   ]
  },
  {
   "cell_type": "code",
   "execution_count": 396,
   "id": "2b8396ec",
   "metadata": {},
   "outputs": [
    {
     "data": {
      "text/plain": [
       "array([0.87016733, 0.85948859, 0.82993986, ..., 0.46699929, 0.45234685,\n",
       "       0.44100079])"
      ]
     },
     "execution_count": 396,
     "metadata": {},
     "output_type": "execute_result"
    }
   ],
   "source": [
    "sp"
   ]
  },
  {
   "cell_type": "code",
   "execution_count": 380,
   "id": "1230c1f5",
   "metadata": {},
   "outputs": [],
   "source": [
    "def tscore_1sample(X):\n",
    "    '''\n",
    "    assume X is a 2D matrix (sample size * n-datapoints of 1 sample)\n",
    "    '''\n",
    "    n = X.shape[0]\n",
    "    t = np.mean(X,axis=0)/(np.std(X,axis=0)/np.sqrt(n))\n",
    "    return t\n",
    "\n",
    "def tscore_2sample(x1,x2):\n",
    "    n1 = x1.shape[0]\n",
    "    n2 = x2.shape[0]\n",
    "    s1 = np.std(x1,axis=0)\n",
    "    s2 = np.std(x2,axis=0)\n",
    "    sp = np.sqrt(((n1-1)*np.square(s1)+(n2-1)*np.square(s2))/(n1+n2-2)) # pooled standard deviation\n",
    "    t = (np.mean(x1,axis=0)-np.mean(x2,axis=0))/(sp*np.sqrt(1/n1 + 1/n2))\n",
    "    return t\n",
    "\n",
    "def contrast_2sample(x1,x2):\n",
    "    return np.mean(x1,axis=0)-np.mean(x2,axis=0)\n",
    "    \n",
    "\n",
    "def zscore_1sample(X):\n",
    "    '''\n",
    "    assume X is a 2D matrix (sample size * n-datapoints of 1 sample)\n",
    "    '''\n",
    "    n = X.shape[0]\n",
    "    z = (X-np.mean(X,axis=0))/(np.std(X,axis=0))\n",
    "    return z\n"
   ]
  },
  {
   "cell_type": "code",
   "execution_count": 438,
   "id": "8f4ebe96",
   "metadata": {},
   "outputs": [],
   "source": [
    "def MNE1SampleSpectraSigTest(d1, threshold='auto', outname= 'tmp.mat', ifplot=1,  n_permutations = 5000, ifsave=0):\n",
    "    # convert vector to time-freq matrix\n",
    "    n1=mat['Vrpw'].shape[1] # 1380\n",
    "    n2=mat['Vrpc'].shape[1] # 1200\n",
    "    ntime = 60\n",
    "    #\n",
    "    pw1 = d1[:, 0:n1].reshape(d1.shape[0],ntime, -1) \n",
    "    pc1 = d1[:, n1:(n1+n2)].reshape(d1.shape[0],ntime, -1)\n",
    "  \n",
    "   # COMPUTE ADJACENCY MATRIX\n",
    "    adjacency = mne.stats.combine_adjacency(pw1.shape[1], pw1.shape[2]) #  times, freqs\n",
    "\n",
    "    # We want a one-tailed test\n",
    "    tail = 1\n",
    "    degrees_of_freedom = d1.shape[0] - 1\n",
    "    if threshold=='auto':\n",
    "        t_thresh = scipy.stats.t.ppf(1 - 0.001/2, df=degrees_of_freedom)\n",
    "    else:\n",
    "        t_thresh = threshold\n",
    "    print('Initial cluster threshold is %s'%(t_thresh))\n",
    "    print('Degrees of freedom is %d' % (degrees_of_freedom))\n",
    "\n",
    "\n",
    "    # Run the analysis\n",
    "    T_obs, clusters, cluster_p_values, H0 = mne.stats.permutation_cluster_1samp_test(\n",
    "        pw1, n_jobs=-1,\n",
    "        n_permutations=n_permutations,\n",
    "        threshold=t_thresh,\n",
    "        tail=tail,\n",
    "        adjacency=adjacency,\n",
    "        out_type=\"mask\",\n",
    "        verbose=True\n",
    "    )\n",
    "    T_obs_plot = np.nan * np.ones_like(T_obs)\n",
    "    \n",
    "    \n",
    "    for c, p_val in zip(clusters, cluster_p_values):\n",
    "        if p_val <= 0.01:\n",
    "            T_obs_plot[c] = T_obs[c]\n",
    "            \n",
    "    t_idx, f_idx = np.unravel_index(\n",
    "            np.nanargmax(np.abs(T_obs_plot)), pw1.shape[1:]\n",
    "        )\n",
    "\n",
    "    if ifplot==1:\n",
    "        plt.close()\n",
    "        plt.figure()\n",
    "        plt.subplots_adjust(0.12, 0.08, 0.96, 0.94, 0.2, 0.43)\n",
    "\n",
    "        vmax = np.max(np.abs(T_obs))\n",
    "        vmin = -vmax\n",
    "        plt.close()\n",
    "        plt.figure()\n",
    "        plt.imshow(\n",
    "            np.transpose(T_obs),\n",
    "            cmap=plt.cm.gray,\n",
    "           # extent=[times[0], times[-1], freqs[0], freqs[-1]],\n",
    "            aspect=\"auto\",\n",
    "            origin=\"lower\",\n",
    "            vmin=vmin,\n",
    "            vmax=vmax,\n",
    "        )\n",
    "\n",
    "        plt.imshow(\n",
    "            np.transpose(T_obs_plot),\n",
    "            cmap=plt.cm.RdBu_r,\n",
    "         #   extent=[times[0], times[-1], freqs[0], freqs[-1]],\n",
    "            aspect=\"auto\",\n",
    "            origin=\"lower\",\n",
    "            vmin=vmin,\n",
    "            vmax=vmax,\n",
    "        )\n",
    "        plt.colorbar()\n",
    "        plt.xlabel(\"Time (custome unit)\")\n",
    "        plt.ylabel(\"Frequency (custome unit)\")\n",
    "        #plt.title(f\"Induced power ({tfr_epochs.ch_names[ch_idx]})\")\n",
    "        plt.show()\n",
    "    \n",
    "    sigClsts = {\"T_obs\":T_obs, \"clusters\":np.array(clusters), \"cluster_p_values\":cluster_p_values, \"H0\":H0,\n",
    "                   \"T_obs_thr\":T_obs_plot, 't_idx':t_idx, 'f_idx':f_idx}\n",
    "        \n",
    "    if ifsave==1:\n",
    "        # save significant clusters\n",
    "          io.savemat(\"GroupLevel_SigTest/\"+outname, sigClsts)\n",
    "        \n",
    "    return sigClsts"
   ]
  },
  {
   "cell_type": "code",
   "execution_count": 422,
   "id": "7ed0e360",
   "metadata": {},
   "outputs": [],
   "source": [
    "def MNE2SampleSpectraSigTest(d1, d2, threshold, outname= 'tmp.mat', ifplot=1,  n_permutations = 5000, ifsave=0):\n",
    "    # convert vector to time-freq matrix\n",
    "    n1=mat['Vrpw'].shape[1] # 1380\n",
    "    n2=mat['Vrpc'].shape[1] # 1200\n",
    "    ntime = 60\n",
    "    #\n",
    "    pw1 = d1[:, 0:n1].reshape(d1.shape[0],ntime, -1) \n",
    "    pc1 = d1[:, n1:(n1+n2)].reshape(d1.shape[0],ntime, -1)\n",
    "    #\n",
    "    pw2 = d2[:, 0:n1].reshape(d2.shape[0],ntime, -1) \n",
    "    pc2 = d2[:, n1:(n1+n2)].reshape(d2.shape[0],ntime, -1)\n",
    "    \n",
    "    # plot\n",
    "    # plot to check data\n",
    "    if ifplot==1:\n",
    "        plotSpectra2Groups(np.rot90(np.nanmean(pw1, axis=0)),\n",
    "                           np.rot90(np.nanmean(pw2, axis=0)))\n",
    "        \n",
    "   # COMPUTE ADJACENCY MATRIX\n",
    "    adjacency = mne.stats.combine_adjacency(pw1.shape[1], pw1.shape[2]) #  times, freqs\n",
    "\n",
    "    # We want a two-tailed test\n",
    "    tail = 0\n",
    "\n",
    "    # Set the number of permutations to run.\n",
    "    # Warning: 50 is way too small for a real-world analysis (where values of 5000\n",
    "    # or higher are used), but here we use it to increase the computation speed.\n",
    "   \n",
    "\n",
    "    # Run the analysis\n",
    "    F_obs, clusters, cluster_p_values, H0 = mne.stats.permutation_cluster_test(\n",
    "        [pw1,pw2], n_jobs=-1,\n",
    "        n_permutations=n_permutations,\n",
    "        threshold=threshold,\n",
    "        tail=tail,\n",
    "        adjacency=adjacency,\n",
    "        out_type=\"mask\",\n",
    "        verbose=True\n",
    "    )\n",
    "    F_obs_plot = np.nan * np.ones_like(F_obs)\n",
    "    \n",
    "    \n",
    "    for c, p_val in zip(clusters, cluster_p_values):\n",
    "        if p_val <= 0.01:\n",
    "            F_obs_plot[c] = F_obs[c]\n",
    "            \n",
    "    t_idx, f_idx = np.unravel_index(\n",
    "            np.nanargmax(np.abs(F_obs_plot)), pw1.shape[1:]\n",
    "        )\n",
    "\n",
    "    if ifplot==1:\n",
    "        plt.figure()\n",
    "        plt.subplots_adjust(0.12, 0.08, 0.96, 0.94, 0.2, 0.43)\n",
    "\n",
    "        vmax = np.max(np.abs(F_obs))\n",
    "        vmin = -vmax\n",
    "        plt.close()\n",
    "        plt.figure()\n",
    "        plt.imshow(\n",
    "            np.transpose(F_obs),\n",
    "            cmap=plt.cm.gray,\n",
    "           # extent=[times[0], times[-1], freqs[0], freqs[-1]],\n",
    "            aspect=\"auto\",\n",
    "            origin=\"lower\",\n",
    "            vmin=vmin,\n",
    "            vmax=vmax,\n",
    "        )\n",
    "\n",
    "        plt.imshow(\n",
    "            np.transpose(F_obs_plot),\n",
    "            cmap=plt.cm.RdBu_r,\n",
    "         #   extent=[times[0], times[-1], freqs[0], freqs[-1]],\n",
    "            aspect=\"auto\",\n",
    "            origin=\"lower\",\n",
    "            vmin=vmin,\n",
    "            vmax=vmax,\n",
    "        )\n",
    "        plt.colorbar()\n",
    "        plt.xlabel(\"Time (custome unit)\")\n",
    "        plt.ylabel(\"Frequency (custome unit)\")\n",
    "        #plt.title(f\"Induced power ({tfr_epochs.ch_names[ch_idx]})\")\n",
    "        plt.show()\n",
    "    \n",
    "    sigClsts = {\"F_obs\":F_obs, \"clusters\":np.array(clusters), \"cluster_p_values\":cluster_p_values, \"H0\":H0,\n",
    "                   \"F_obs_thr\":F_obs_plot, 't_idx':t_idx, 'f_idx':f_idx}\n",
    "        \n",
    "    if ifsave==1:\n",
    "        # save significant clusters\n",
    "        io.savemat(\"GroupLevel_SigTest/\"+outname, sigClsts)\n",
    "        \n",
    "    return sigClsts\n",
    "    \n",
    "def plotSpectra2Groups(dshow1,dshow2):\n",
    "    plt.close()\n",
    "    fig, (ax1, ax2, ax3) = plt.subplots(ncols=3, figsize=(15,5))\n",
    "\n",
    "    sp1 = ax1.imshow(dshow1, aspect=2.1)\n",
    "    ax1.set_title('mean power (group1)', fontsize=10)\n",
    "    #ax1.set(xticks=np.arange(0, 65)[::20], xticklabels=np.arange(-25, 650)[::200]);\n",
    "    ax1.tick_params( labelsize=10)\n",
    "    plt.colorbar(sp1,shrink=0.6)\n",
    "\n",
    "    sp2 = ax2.imshow(dshow2, aspect=2.1)\n",
    "    ax2.set_title('mean power (group2)', fontsize=10)\n",
    "    #ax2.set(xticks=np.arange(0, 65)[::20], xticklabels=np.arange(-25, 650)[::200]);\n",
    "    ax2.tick_params( labelsize=10)\n",
    "    plt.colorbar(sp2,shrink=0.6)\n",
    "\n",
    "    sp3 = ax3.imshow(dshow1-dshow2,\n",
    "                     aspect=2.1, cmap='RdBu_r')\n",
    "    ax3.set_title('mean power differences', fontsize=10)\n",
    "    #ax2.set(xticks=np.arange(0, 65)[::20], xticklabels=np.arange(-25, 650)[::200]);\n",
    "    ax3.tick_params(labelsize=10)\n",
    "    plt.colorbar(sp3,shrink=0.6)\n",
    "    plt.show()\n",
    "    "
   ]
  },
  {
   "cell_type": "markdown",
   "id": "21cab7a4",
   "metadata": {},
   "source": [
    "### Within-subject cluster permutation test between COR-ipsi vs THAL-ipsi"
   ]
  },
  {
   "cell_type": "code",
   "execution_count": 440,
   "id": "eddc5ccd",
   "metadata": {},
   "outputs": [
    {
     "name": "stdout",
     "output_type": "stream",
     "text": [
      "Group1: THAL-ipsi\n",
      "(9415, 73)\n",
      "(5209, 2580)\n",
      "Group2: COR-ipsi\n",
      "(9415, 73)\n",
      "(39463, 2580)\n"
     ]
    }
   ],
   "source": [
    "it1 = 1\n",
    "it2 = 0\n",
    "print('Group1: %s'%(ftypes[it1]))\n",
    "filterBoolean = (cleanFeatures==ftypes[it1])&( isnoise==0) \n",
    "brain_info1 = brainInfo[filterBoolean]\n",
    "print(brain_info.shape)\n",
    "d1_ = dat[filterBoolean]\n",
    "print(d1_.shape)\n",
    "\n",
    "print('Group2: %s'%(ftypes[it2]))\n",
    "filterBoolean = (cleanFeatures==ftypes[it2])&( isnoise==0) \n",
    "brain_info2 = brainInfo[filterBoolean]\n",
    "print(brain_info.shape)\n",
    "d2_ = dat[filterBoolean]\n",
    "print(d2_.shape)\n",
    "# impute missing data\n",
    "# Preprocess - simulate nan values, which are few\n",
    "pipe = make_pipeline(SimpleImputer(strategy=\"mean\"))\n",
    "d1 = pipe.fit_transform(d1_.copy())\n",
    "d2 = pipe.fit_transform(d2_.copy())"
   ]
  },
  {
   "cell_type": "code",
   "execution_count": 441,
   "id": "fe9b4b3f",
   "metadata": {},
   "outputs": [
    {
     "data": {
      "image/png": "[encoded data removed]",
      "text/plain": [
       "<Figure size 1500x500 with 6 Axes>"
      ]
     },
     "metadata": {},
     "output_type": "display_data"
    }
   ],
   "source": [
    "tG1 = tscore_1sample(d1)\n",
    "tG2 = tscore_1sample(d2)\n",
    "plotSpectra2Groups(np.rot90(tG1[0:n1].reshape(ntime, -1)),\n",
    "                   np.rot90(tG2[0:n1].reshape(ntime, -1)))"
   ]
  },
  {
   "cell_type": "code",
   "execution_count": 370,
   "id": "ffb170ca",
   "metadata": {},
   "outputs": [
    {
     "data": {
      "text/plain": [
       "['COR-ipsi', 'THAL-ipsi', 'THAL-contr', 'COR-contr']"
      ]
     },
     "execution_count": 370,
     "metadata": {},
     "output_type": "execute_result"
    }
   ],
   "source": [
    "ftypes"
   ]
  },
  {
   "cell_type": "code",
   "execution_count": 340,
   "id": "46ee208b",
   "metadata": {},
   "outputs": [
    {
     "name": "stdout",
     "output_type": "stream",
     "text": [
      "(39463, 2580)\n"
     ]
    },
    {
     "data": {
      "text/plain": [
       "(39463, 73)"
      ]
     },
     "execution_count": 340,
     "metadata": {},
     "output_type": "execute_result"
    }
   ],
   "source": [
    "print(d1.shape)\n",
    "brain_info1.shape"
   ]
  },
  {
   "cell_type": "code",
   "execution_count": 263,
   "id": "84c1b38a",
   "metadata": {},
   "outputs": [
    {
     "data": {
      "text/html": [
       "<div>\n",
       "<style scoped>\n",
       "    .dataframe tbody tr th:only-of-type {\n",
       "        vertical-align: middle;\n",
       "    }\n",
       "\n",
       "    .dataframe tbody tr th {\n",
       "        vertical-align: top;\n",
       "    }\n",
       "\n",
       "    .dataframe thead th {\n",
       "        text-align: right;\n",
       "    }\n",
       "</style>\n",
       "<table border=\"1\" class=\"dataframe\">\n",
       "  <thead>\n",
       "    <tr style=\"text-align: right;\">\n",
       "      <th></th>\n",
       "      <th>Level_1</th>\n",
       "      <th>level_0</th>\n",
       "      <th>index</th>\n",
       "      <th>subject</th>\n",
       "      <th>aSubID</th>\n",
       "      <th>block_name</th>\n",
       "      <th>stim_chan</th>\n",
       "      <th>record_chan</th>\n",
       "      <th>sc1</th>\n",
       "      <th>sc2</th>\n",
       "      <th>...</th>\n",
       "      <th>pks_time_3</th>\n",
       "      <th>pks_time_4</th>\n",
       "      <th>pks_time_5</th>\n",
       "      <th>pks_time_6</th>\n",
       "      <th>pks_time_7</th>\n",
       "      <th>pks_time_8</th>\n",
       "      <th>pks_time_9</th>\n",
       "      <th>pks_time_10</th>\n",
       "      <th>pks_time_11</th>\n",
       "      <th>pks_time_12</th>\n",
       "    </tr>\n",
       "  </thead>\n",
       "  <tbody>\n",
       "    <tr>\n",
       "      <th>671</th>\n",
       "      <td>697</td>\n",
       "      <td>810</td>\n",
       "      <td>3229</td>\n",
       "      <td>S21_166_TM</td>\n",
       "      <td>S01_166</td>\n",
       "      <td>E21-725_0046</td>\n",
       "      <td>RAI1-RAI2</td>\n",
       "      <td>RORF1-RORF2</td>\n",
       "      <td>RAI1</td>\n",
       "      <td>RAI2</td>\n",
       "      <td>...</td>\n",
       "      <td>NaN</td>\n",
       "      <td>NaN</td>\n",
       "      <td>NaN</td>\n",
       "      <td>NaN</td>\n",
       "      <td>NaN</td>\n",
       "      <td>NaN</td>\n",
       "      <td>NaN</td>\n",
       "      <td>NaN</td>\n",
       "      <td>NaN</td>\n",
       "      <td>NaN</td>\n",
       "    </tr>\n",
       "    <tr>\n",
       "      <th>672</th>\n",
       "      <td>698</td>\n",
       "      <td>811</td>\n",
       "      <td>3230</td>\n",
       "      <td>S21_166_TM</td>\n",
       "      <td>S01_166</td>\n",
       "      <td>E21-725_0046</td>\n",
       "      <td>RAI1-RAI2</td>\n",
       "      <td>RORF2-RORF3</td>\n",
       "      <td>RAI1</td>\n",
       "      <td>RAI2</td>\n",
       "      <td>...</td>\n",
       "      <td>451.0</td>\n",
       "      <td>NaN</td>\n",
       "      <td>NaN</td>\n",
       "      <td>NaN</td>\n",
       "      <td>NaN</td>\n",
       "      <td>NaN</td>\n",
       "      <td>NaN</td>\n",
       "      <td>NaN</td>\n",
       "      <td>NaN</td>\n",
       "      <td>NaN</td>\n",
       "    </tr>\n",
       "    <tr>\n",
       "      <th>673</th>\n",
       "      <td>699</td>\n",
       "      <td>812</td>\n",
       "      <td>3231</td>\n",
       "      <td>S21_166_TM</td>\n",
       "      <td>S01_166</td>\n",
       "      <td>E21-725_0046</td>\n",
       "      <td>RAI1-RAI2</td>\n",
       "      <td>RORF3-RORF4</td>\n",
       "      <td>RAI1</td>\n",
       "      <td>RAI2</td>\n",
       "      <td>...</td>\n",
       "      <td>456.0</td>\n",
       "      <td>NaN</td>\n",
       "      <td>NaN</td>\n",
       "      <td>NaN</td>\n",
       "      <td>NaN</td>\n",
       "      <td>NaN</td>\n",
       "      <td>NaN</td>\n",
       "      <td>NaN</td>\n",
       "      <td>NaN</td>\n",
       "      <td>NaN</td>\n",
       "    </tr>\n",
       "    <tr>\n",
       "      <th>674</th>\n",
       "      <td>700</td>\n",
       "      <td>813</td>\n",
       "      <td>3232</td>\n",
       "      <td>S21_166_TM</td>\n",
       "      <td>S01_166</td>\n",
       "      <td>E21-725_0046</td>\n",
       "      <td>RAI1-RAI2</td>\n",
       "      <td>RORF4-RORF5</td>\n",
       "      <td>RAI1</td>\n",
       "      <td>RAI2</td>\n",
       "      <td>...</td>\n",
       "      <td>129.0</td>\n",
       "      <td>446.0</td>\n",
       "      <td>NaN</td>\n",
       "      <td>NaN</td>\n",
       "      <td>NaN</td>\n",
       "      <td>NaN</td>\n",
       "      <td>NaN</td>\n",
       "      <td>NaN</td>\n",
       "      <td>NaN</td>\n",
       "      <td>NaN</td>\n",
       "    </tr>\n",
       "    <tr>\n",
       "      <th>675</th>\n",
       "      <td>701</td>\n",
       "      <td>814</td>\n",
       "      <td>3233</td>\n",
       "      <td>S21_166_TM</td>\n",
       "      <td>S01_166</td>\n",
       "      <td>E21-725_0046</td>\n",
       "      <td>RAI1-RAI2</td>\n",
       "      <td>RORF5-RORF6</td>\n",
       "      <td>RAI1</td>\n",
       "      <td>RAI2</td>\n",
       "      <td>...</td>\n",
       "      <td>129.0</td>\n",
       "      <td>493.0</td>\n",
       "      <td>NaN</td>\n",
       "      <td>NaN</td>\n",
       "      <td>NaN</td>\n",
       "      <td>NaN</td>\n",
       "      <td>NaN</td>\n",
       "      <td>NaN</td>\n",
       "      <td>NaN</td>\n",
       "      <td>NaN</td>\n",
       "    </tr>\n",
       "  </tbody>\n",
       "</table>\n",
       "<p>5 rows × 73 columns</p>\n",
       "</div>"
      ],
      "text/plain": [
       "     Level_1  level_0  index     subject   aSubID    block_name  stim_chan   \n",
       "671      697      810   3229  S21_166_TM  S01_166  E21-725_0046  RAI1-RAI2  \\\n",
       "672      698      811   3230  S21_166_TM  S01_166  E21-725_0046  RAI1-RAI2   \n",
       "673      699      812   3231  S21_166_TM  S01_166  E21-725_0046  RAI1-RAI2   \n",
       "674      700      813   3232  S21_166_TM  S01_166  E21-725_0046  RAI1-RAI2   \n",
       "675      701      814   3233  S21_166_TM  S01_166  E21-725_0046  RAI1-RAI2   \n",
       "\n",
       "     record_chan   sc1   sc2  ... pks_time_3 pks_time_4  pks_time_5   \n",
       "671  RORF1-RORF2  RAI1  RAI2  ...        NaN        NaN         NaN  \\\n",
       "672  RORF2-RORF3  RAI1  RAI2  ...      451.0        NaN         NaN   \n",
       "673  RORF3-RORF4  RAI1  RAI2  ...      456.0        NaN         NaN   \n",
       "674  RORF4-RORF5  RAI1  RAI2  ...      129.0      446.0         NaN   \n",
       "675  RORF5-RORF6  RAI1  RAI2  ...      129.0      493.0         NaN   \n",
       "\n",
       "     pks_time_6  pks_time_7  pks_time_8  pks_time_9  pks_time_10  pks_time_11   \n",
       "671         NaN         NaN         NaN         NaN          NaN          NaN  \\\n",
       "672         NaN         NaN         NaN         NaN          NaN          NaN   \n",
       "673         NaN         NaN         NaN         NaN          NaN          NaN   \n",
       "674         NaN         NaN         NaN         NaN          NaN          NaN   \n",
       "675         NaN         NaN         NaN         NaN          NaN          NaN   \n",
       "\n",
       "     pks_time_12  \n",
       "671          NaN  \n",
       "672          NaN  \n",
       "673          NaN  \n",
       "674          NaN  \n",
       "675          NaN  \n",
       "\n",
       "[5 rows x 73 columns]"
      ]
     },
     "execution_count": 263,
     "metadata": {},
     "output_type": "execute_result"
    }
   ],
   "source": [
    "brain_info1.head()"
   ]
  },
  {
   "cell_type": "code",
   "execution_count": 449,
   "id": "ba78e980",
   "metadata": {},
   "outputs": [
    {
     "data": {
      "text/plain": [
       "(array([11., 20., 14., 15., 13., 19., 52., 50., 62., 54., 34., 57., 75.,\n",
       "        82., 58., 55., 58., 36., 40., 50., 44., 50., 39., 68., 58., 46.,\n",
       "        59., 26., 27., 41., 33., 27., 47., 52., 63., 67., 76., 82., 75.,\n",
       "        69., 81., 69., 64., 78., 62., 47., 38., 30., 19., 13.,  6.,  7.,\n",
       "         8., 17., 10., 10.,  5.,  8.,  3.,  9.,  3.,  6.,  4.,  5.,  4.,\n",
       "         4.,  5.,  2.,  4.,  7.,  4.,  4.,  3.,  0.,  4.,  0.,  4.,  3.,\n",
       "         1.,  2.,  3.,  2.,  0.,  2.,  0.,  2.,  0.,  2.,  0.,  1.,  2.,\n",
       "         1.,  1.,  1.,  2.,  1.,  0.,  0.,  2.,  1.]),\n",
       " array([0.18677087, 0.20075154, 0.2147322 , 0.22871287, 0.24269354,\n",
       "        0.25667421, 0.27065487, 0.28463554, 0.29861621, 0.31259687,\n",
       "        0.32657754, 0.34055821, 0.35453887, 0.36851954, 0.38250021,\n",
       "        0.39648087, 0.41046154, 0.42444221, 0.43842287, 0.45240354,\n",
       "        0.46638421, 0.48036488, 0.49434554, 0.50832621, 0.52230688,\n",
       "        0.53628754, 0.55026821, 0.56424888, 0.57822954, 0.59221021,\n",
       "        0.60619088, 0.62017154, 0.63415221, 0.64813288, 0.66211354,\n",
       "        0.67609421, 0.69007488, 0.70405554, 0.71803621, 0.73201688,\n",
       "        0.74599755, 0.75997821, 0.77395888, 0.78793955, 0.80192021,\n",
       "        0.81590088, 0.82988155, 0.84386221, 0.85784288, 0.87182355,\n",
       "        0.88580421, 0.89978488, 0.91376555, 0.92774621, 0.94172688,\n",
       "        0.95570755, 0.96968822, 0.98366888, 0.99764955, 1.01163022,\n",
       "        1.02561088, 1.03959155, 1.05357222, 1.06755288, 1.08153355,\n",
       "        1.09551422, 1.10949488, 1.12347555, 1.13745622, 1.15143688,\n",
       "        1.16541755, 1.17939822, 1.19337889, 1.20735955, 1.22134022,\n",
       "        1.23532089, 1.24930155, 1.26328222, 1.27726289, 1.29124355,\n",
       "        1.30522422, 1.31920489, 1.33318555, 1.34716622, 1.36114689,\n",
       "        1.37512755, 1.38910822, 1.40308889, 1.41706955, 1.43105022,\n",
       "        1.44503089, 1.45901156, 1.47299222, 1.48697289, 1.50095356,\n",
       "        1.51493422, 1.52891489, 1.54289556, 1.55687622, 1.57085689,\n",
       "        1.58483756]),\n",
       " <BarContainer object of 100 artists>)"
      ]
     },
     "execution_count": 449,
     "metadata": {},
     "output_type": "execute_result"
    },
    {
     "data": {
      "image/png": "[encoded data removed]",
      "text/plain": [
       "<Figure size 640x480 with 1 Axes>"
      ]
     },
     "metadata": {},
     "output_type": "display_data"
    }
   ],
   "source": [
    "# check variance of two groups to be compared\n",
    "d1_vars = np.var(d1, axis=0)\n",
    "d2_vars = np.var(d2, axis=0)\n",
    "plt.close()\n",
    "plt.figure()\n",
    "plt.hist(d1_vars, bins=100, alpha=0.5)\n",
    "plt.hist(d2_vars,bins=100, alpha=0.5)"
   ]
  },
  {
   "cell_type": "code",
   "execution_count": 442,
   "id": "569c8475",
   "metadata": {},
   "outputs": [
    {
     "name": "stdout",
     "output_type": "stream",
     "text": [
      "S22_192_LG does not have group1 data...\n"
     ]
    }
   ],
   "source": [
    "withinsb_Tscores = []\n",
    "\n",
    "for i,sb in enumerate(sblist):\n",
    "    idx1 = np.where(brain_info1.subject==sb)[0]\n",
    "    if idx1.shape[0]==0:\n",
    "        print(sb+' does not have group1 data...')\n",
    "        continue\n",
    "    \n",
    "    idx2 = np.where(brain_info2.subject==sb)[0]\n",
    "    if idx2.shape[0]==0:\n",
    "        print(sb+' does not have group2 data...')\n",
    "        continue\n",
    "        \n",
    "    sbd1 = d1[idx1,:]\n",
    "    sbd2 = d2[idx2,:]\n",
    "    sbt = tscore_2sample(sbd1,sbd2)\n",
    "    #sbt = tscore_1sample(sbd1)-tscore_1sample(sbd2)\n",
    "    withinsb_Tscores.append(sbt) # within-subject comparison of t-scores of each categories\n",
    "    \n",
    "withinsb_Tscores = np.array(withinsb_Tscores)"
   ]
  },
  {
   "cell_type": "code",
   "execution_count": 398,
   "id": "b502fa01",
   "metadata": {},
   "outputs": [
    {
     "data": {
      "text/plain": [
       "(25, 2580)"
      ]
     },
     "execution_count": 398,
     "metadata": {},
     "output_type": "execute_result"
    }
   ],
   "source": [
    "withinsb_Tscores.shape"
   ]
  },
  {
   "cell_type": "code",
   "execution_count": 443,
   "id": "ed0b7b76",
   "metadata": {},
   "outputs": [
    {
     "data": {
      "text/plain": [
       "<matplotlib.colorbar.Colorbar at 0x7f6aa83ef940>"
      ]
     },
     "execution_count": 443,
     "metadata": {},
     "output_type": "execute_result"
    },
    {
     "data": {
      "image/png": "[encoded data removed]",
      "text/plain": [
       "<Figure size 640x480 with 2 Axes>"
      ]
     },
     "metadata": {},
     "output_type": "display_data"
    }
   ],
   "source": [
    "plt.close()\n",
    "plt.figure()\n",
    "dat2show = rotate(np.mean(withinsb_Tscores[:,0:n1],axis=0).reshape(ntime, -1))\n",
    "p = plt.imshow(dat2show, aspect=2.1, cmap='RdBu_r')\n",
    "plt.colorbar(p,shrink=0.6)"
   ]
  },
  {
   "cell_type": "code",
   "execution_count": 411,
   "id": "ee90cf11",
   "metadata": {},
   "outputs": [
    {
     "name": "stdout",
     "output_type": "stream",
     "text": [
      "Initial cluster threshold is 3.7453986189275703\n",
      "Degrees of freedom is 24\n",
      "stat_fun(H1): min=-14.860892 max=16.050186\n",
      "Running initial clustering …\n",
      "Found 1 cluster\n"
     ]
    },
    {
     "data": {
      "application/vnd.jupyter.widget-view+json": {
       "model_id": "401a9c01f6094cd0b5e052558eb09539",
       "version_major": 2,
       "version_minor": 0
      },
      "text/plain": [
       "  0%|          | Permuting : 0/4999 [00:00<?,       ?it/s]"
      ]
     },
     "metadata": {},
     "output_type": "display_data"
    },
    {
     "data": {
      "image/png": "[encoded data removed]",
      "text/plain": [
       "<Figure size 640x480 with 2 Axes>"
      ]
     },
     "metadata": {},
     "output_type": "display_data"
    },
    {
     "data": {
      "text/plain": [
       "{'T_obs': array([[  2.24459798,   2.60360361,   2.32311227, ...,  -8.17325376,\n",
       "          -8.60195361,  -8.95357145],\n",
       "        [  2.36290343,   2.91236935,   2.99726801, ...,  -5.21411714,\n",
       "          -7.7846661 ,  -8.64674967],\n",
       "        [  2.51629336,   3.20330249,   3.56014241, ...,   1.86162527,\n",
       "          -3.78215282,  -6.35502445],\n",
       "        ...,\n",
       "        [-10.972442  , -11.27962111, -10.55348911, ...,  -8.74564673,\n",
       "          -9.27750416,  -9.12468758],\n",
       "        [-12.7607007 , -11.93976577, -10.58871228, ...,  -9.18794754,\n",
       "          -9.30115559,  -9.38342357],\n",
       "        [-12.92547627, -11.50679436, -10.37243211, ...,  -8.71072641,\n",
       "          -8.74443454,  -9.2689554 ]]),\n",
       " 'clusters': array([[[False, False, False, ..., False, False, False],\n",
       "         [False, False, False, ..., False, False, False],\n",
       "         [False, False, False, ..., False, False, False],\n",
       "         ...,\n",
       "         [False, False, False, ..., False, False, False],\n",
       "         [False, False, False, ..., False, False, False],\n",
       "         [False, False, False, ..., False, False, False]]]),\n",
       " 'cluster_p_values': array([0.0002]),\n",
       " 'H0': array([4711.61741689,    0.        ,    0.        , ...,    0.        ,\n",
       "           0.        ,    0.        ]),\n",
       " 'T_obs_thr': array([[nan, nan, nan, ..., nan, nan, nan],\n",
       "        [nan, nan, nan, ..., nan, nan, nan],\n",
       "        [nan, nan, nan, ..., nan, nan, nan],\n",
       "        ...,\n",
       "        [nan, nan, nan, ..., nan, nan, nan],\n",
       "        [nan, nan, nan, ..., nan, nan, nan],\n",
       "        [nan, nan, nan, ..., nan, nan, nan]]),\n",
       " 't_idx': 7,\n",
       " 'f_idx': 16}"
      ]
     },
     "execution_count": 411,
     "metadata": {},
     "output_type": "execute_result"
    }
   ],
   "source": [
    "# run test\n",
    "MNE1SampleSpectraSigTest(withinsb_Tscores, ifsave=1, \n",
    "                         outname='mnePermutationClusterTest_sigClsts_withinsbjTscores_%svs%s.mat'%(ftypes[it1],ftypes[it2]))"
   ]
  },
  {
   "cell_type": "markdown",
   "id": "b05e22eb",
   "metadata": {},
   "source": [
    "### Within-subject cluster permutation test between other groups"
   ]
  },
  {
   "cell_type": "code",
   "execution_count": 371,
   "id": "420148ea",
   "metadata": {},
   "outputs": [
    {
     "data": {
      "text/plain": [
       "['COR-ipsi', 'THAL-ipsi', 'THAL-contr', 'COR-contr']"
      ]
     },
     "execution_count": 371,
     "metadata": {},
     "output_type": "execute_result"
    }
   ],
   "source": [
    "ftypes"
   ]
  },
  {
   "cell_type": "code",
   "execution_count": 466,
   "id": "aea15fae",
   "metadata": {},
   "outputs": [
    {
     "name": "stdout",
     "output_type": "stream",
     "text": [
      "Group1: THAL-contr\n",
      "(9415, 73)\n",
      "(619, 2580)\n",
      "Group2: THAL-ipsi\n",
      "(9415, 73)\n",
      "(5209, 2580)\n",
      "S21_166_TM does not have group1 data...\n",
      "S21_167_MQ does not have group1 data...\n",
      "S21_170_JL does not have group1 data...\n",
      "S22_176_LB does not have group1 data...\n",
      "S22_190_AS does not have group1 data...\n",
      "S22_192_LG does not have group1 data...\n",
      "Initial cluster threshold is 5\n",
      "Degrees of freedom is 19\n",
      "stat_fun(H1): min=-6.799952 max=8.088826\n",
      "Running initial clustering …\n",
      "Found 11 clusters\n"
     ]
    },
    {
     "data": {
      "application/vnd.jupyter.widget-view+json": {
       "model_id": "af5e8546e50941e1815b9ec1f550271d",
       "version_major": 2,
       "version_minor": 0
      },
      "text/plain": [
       "  0%|          | Permuting : 0/4999 [00:00<?,       ?it/s]"
      ]
     },
     "metadata": {},
     "output_type": "display_data"
    },
    {
     "data": {
      "image/png": "[encoded data removed]",
      "text/plain": [
       "<Figure size 640x480 with 2 Axes>"
      ]
     },
     "metadata": {},
     "output_type": "display_data"
    },
    {
     "data": {
      "text/plain": [
       "{'T_obs': array([[-0.82653349, -1.77503162, -0.87477512, ...,  4.96967412,\n",
       "          5.21308772,  4.59803384],\n",
       "        [-1.10875023, -2.38310491, -1.6250161 , ...,  4.60286888,\n",
       "          5.20571634,  5.116087  ],\n",
       "        [-1.23719628, -2.87598056, -2.476839  , ...,  4.01662813,\n",
       "          4.6406346 ,  5.29955208],\n",
       "        ...,\n",
       "        [ 3.45529954,  3.77824615,  5.16092012, ...,  5.79738427,\n",
       "          5.94176059,  5.6692979 ],\n",
       "        [ 3.96711517,  4.75812768,  5.15650062, ...,  5.68269577,\n",
       "          6.40980274,  5.55380848],\n",
       "        [ 4.65959072,  6.72318301,  6.65328468, ...,  5.46165082,\n",
       "          5.74012336,  5.49858933]]),\n",
       " 'clusters': array([[[False, False, False, ..., False, False, False],\n",
       "         [False, False, False, ..., False, False, False],\n",
       "         [False, False, False, ..., False, False, False],\n",
       "         ...,\n",
       "         [False, False, False, ..., False, False, False],\n",
       "         [False, False, False, ..., False, False, False],\n",
       "         [False, False, False, ..., False, False, False]],\n",
       " \n",
       "        [[False, False, False, ..., False,  True, False],\n",
       "         [False, False, False, ..., False,  True,  True],\n",
       "         [False, False, False, ..., False, False,  True],\n",
       "         ...,\n",
       "         [False, False, False, ..., False, False, False],\n",
       "         [False, False, False, ..., False, False, False],\n",
       "         [False, False, False, ..., False, False, False]],\n",
       " \n",
       "        [[False, False, False, ..., False, False, False],\n",
       "         [False, False, False, ..., False, False, False],\n",
       "         [False, False, False, ..., False, False, False],\n",
       "         ...,\n",
       "         [False, False, False, ..., False, False, False],\n",
       "         [False, False, False, ..., False, False, False],\n",
       "         [False, False, False, ..., False, False, False]],\n",
       " \n",
       "        ...,\n",
       " \n",
       "        [[False, False, False, ..., False, False, False],\n",
       "         [False, False, False, ..., False, False, False],\n",
       "         [False, False, False, ..., False, False, False],\n",
       "         ...,\n",
       "         [False, False, False, ...,  True,  True,  True],\n",
       "         [False, False, False, ...,  True,  True,  True],\n",
       "         [False, False, False, ...,  True,  True,  True]],\n",
       " \n",
       "        [[False, False, False, ..., False, False, False],\n",
       "         [False, False, False, ..., False, False, False],\n",
       "         [False, False, False, ..., False, False, False],\n",
       "         ...,\n",
       "         [False, False,  True, ..., False, False, False],\n",
       "         [False, False,  True, ..., False, False, False],\n",
       "         [False,  True,  True, ..., False, False, False]],\n",
       " \n",
       "        [[False, False, False, ..., False, False, False],\n",
       "         [False, False, False, ..., False, False, False],\n",
       "         [False, False, False, ..., False, False, False],\n",
       "         ...,\n",
       "         [False, False, False, ..., False, False, False],\n",
       "         [False, False, False, ..., False, False, False],\n",
       "         [False, False, False, ..., False, False, False]]]),\n",
       " 'cluster_p_values': array([0.004 , 0.0014, 0.0004, 0.005 , 0.004 , 0.0004, 0.0008, 0.0006,\n",
       "        0.0004, 0.0006, 0.0038]),\n",
       " 'H0': array([453.91514358,   0.        ,   0.        , ...,   0.        ,\n",
       "          0.        ,   0.        ]),\n",
       " 'T_obs_thr': array([[       nan,        nan,        nan, ...,        nan, 5.21308772,\n",
       "                nan],\n",
       "        [       nan,        nan,        nan, ...,        nan, 5.20571634,\n",
       "         5.116087  ],\n",
       "        [       nan,        nan,        nan, ...,        nan,        nan,\n",
       "         5.29955208],\n",
       "        ...,\n",
       "        [       nan,        nan, 5.16092012, ..., 5.79738427, 5.94176059,\n",
       "         5.6692979 ],\n",
       "        [       nan,        nan, 5.15650062, ..., 5.68269577, 6.40980274,\n",
       "         5.55380848],\n",
       "        [       nan, 6.72318301, 6.65328468, ..., 5.46165082, 5.74012336,\n",
       "         5.49858933]]),\n",
       " 't_idx': 54,\n",
       " 'f_idx': 18}"
      ]
     },
     "execution_count": 466,
     "metadata": {},
     "output_type": "execute_result"
    }
   ],
   "source": [
    "it1 = 2\n",
    "it2 = 1\n",
    "print('Group1: %s'%(ftypes[it1]))\n",
    "filterBoolean = (cleanFeatures==ftypes[it1])&( isnoise==0) \n",
    "brain_info1 = brainInfo[filterBoolean]\n",
    "print(brain_info.shape)\n",
    "d1_ = dat[filterBoolean]\n",
    "print(d1_.shape)\n",
    "\n",
    "print('Group2: %s'%(ftypes[it2]))\n",
    "filterBoolean = (cleanFeatures==ftypes[it2])&( isnoise==0) \n",
    "brain_info2 = brainInfo[filterBoolean]\n",
    "print(brain_info.shape)\n",
    "d2_ = dat[filterBoolean]\n",
    "print(d2_.shape)\n",
    "# impute missing data\n",
    "# Preprocess - simulate nan values, which are few\n",
    "pipe = make_pipeline(SimpleImputer(strategy=\"mean\"))\n",
    "d1 = pipe.fit_transform(d1_.copy())\n",
    "d2 = pipe.fit_transform(d2_.copy())\n",
    "\n",
    "withinsb_Tscores = []\n",
    "\n",
    "for i,sb in enumerate(sblist):\n",
    "    idx1 = np.where(brain_info1.subject==sb)[0]\n",
    "    if idx1.shape[0]==0:\n",
    "        print(sb+' does not have group1 data...')\n",
    "        continue\n",
    "    \n",
    "    idx2 = np.where(brain_info2.subject==sb)[0]\n",
    "    if idx2.shape[0]==0:\n",
    "        print(sb+' does not have group2 data...')\n",
    "        continue\n",
    "        \n",
    "    sbd1 = d1[idx1,:]\n",
    "    sbd2 = d2[idx2,:]\n",
    "    sbt = tscore_2sample(sbd1,sbd2)\n",
    "    #sbt = tscore_1sample(sbd1)-tscore_1sample(sbd2)\n",
    "    withinsb_Tscores.append(sbt)\n",
    "\n",
    "withinsb_Tscores = np.array(withinsb_Tscores)\n",
    "\n",
    "plt.close()\n",
    "plt.figure()\n",
    "dat2show = rotate(np.mean(withinsb_Tscores[:,0:n1],axis=0).reshape(ntime, -1))\n",
    "p = plt.imshow(dat2show, aspect=2.1, cmap='RdBu_r')\n",
    "plt.colorbar(p,shrink=0.6)   \n",
    "\n",
    "# run test\n",
    "MNE1SampleSpectraSigTest(withinsb_Tscores, ifsave=0, threshold=5,\n",
    "                         outname='mnePermutationClusterTest_sigClsts_withinsbjT2sample_%svs%s.mat'%(ftypes[it1],ftypes[it2]))\n"
   ]
  },
  {
   "cell_type": "code",
   "execution_count": 25,
   "id": "8b782038",
   "metadata": {},
   "outputs": [
    {
     "name": "stdout",
     "output_type": "stream",
     "text": [
      "['HPC', 'ACC', 'PMC', 'MFC', 'OFC', 'STG', 'IPL', 'SM', 'MTG', 'antTH', 'pstTH', 'OCC', 'ITG', 'midTH', 'LFC', 'INS', 'TP', 'MCC']\n"
     ]
    }
   ],
   "source": [
    "# using same anatomical labelling as ajacency \n",
    "t.columns\n",
    "Areas = list(set(t.JP_label_in.tolist()+t.JP_label_out.tolist()))\n",
    "print(Areas)\n",
    "toArea = list(map(lambda x:Areas.index(x), t.JP_label_in))\n",
    "fromArea = list(map(lambda x:Areas.index(x), t.JP_label_out))\n",
    "homoMat = pairwise.euclidean_distances(np.transpose(np.array([fromArea, toArea])), np.transpose(np.array([fromArea, toArea])))\n",
    "# binarize homoMat - dist=0 --> adj=1\n",
    "adjMat = homoMat.copy()\n",
    "adjMat[homoMat==0]=1\n",
    "adjMat[homoMat>0]=0\n"
   ]
  },
  {
   "cell_type": "markdown",
   "id": "69562853",
   "metadata": {},
   "source": [
    "### OTHER STUFF"
   ]
  },
  {
   "cell_type": "code",
   "execution_count": 27,
   "id": "96fa6501",
   "metadata": {},
   "outputs": [],
   "source": [
    "adjacency = mne.stats.combine_adjacency(\n",
    "     pw1.shape[1], pw1.shape[2] #  times, freqs\n",
    ")"
   ]
  },
  {
   "cell_type": "markdown",
   "id": "aae0b7f2",
   "metadata": {},
   "source": [
    "#### Compute statistics\n"
   ]
  },
  {
   "cell_type": "code",
   "execution_count": 54,
   "id": "c7bc204d",
   "metadata": {},
   "outputs": [
    {
     "name": "stdout",
     "output_type": "stream",
     "text": [
      "stat_fun(H1): min=0.002440 max=819.260017\n",
      "Running initial clustering …\n",
      "Found 2 clusters\n"
     ]
    },
    {
     "data": {
      "application/vnd.jupyter.widget-view+json": {
       "model_id": "166c651fd4f34bdc90c7fda558522bf3",
       "version_major": 2,
       "version_minor": 0
      },
      "text/plain": [
       "  0%|          | Permuting : 0/4999 [00:00<?,       ?it/s]"
      ]
     },
     "metadata": {},
     "output_type": "display_data"
    }
   ],
   "source": [
    "# We want a two-tailed test\n",
    "tail = 0\n",
    "\n",
    "# In this example, we wish to set the threshold for including data bins in\n",
    "# the cluster forming process to the t-value corresponding to p=0.001 for the\n",
    "# given data.\n",
    "#\n",
    "# As the degrees of freedom, we specify the number of observations\n",
    "# (here: epochs) minus 1.\n",
    "# Finally, we subtract 0.001 from 1, to get the critical t-value\n",
    "# on the right tail (this is needed for MNE-Python internals)\n",
    "#degrees_of_freedom = pw1.shape[0] + pw2.shape[0] - 2\n",
    "p_threshold = 0.0000001\n",
    "thresh = scipy.stats.f.ppf(1 - p_threshold, pw1.shape[0]-1, pw2.shape[0]-1)\n",
    "\n",
    "# Set the number of permutations to run.\n",
    "# Warning: 50 is way too small for a real-world analysis (where values of 5000\n",
    "# or higher are used), but here we use it to increase the computation speed.\n",
    "n_permutations = 5000\n",
    "\n",
    "# Run the analysis\n",
    "F_obs, clusters, cluster_p_values, H0 = mne.stats.permutation_cluster_test(\n",
    "    [pw1,pw2], n_jobs=-1,\n",
    "    n_permutations=n_permutations,\n",
    "    threshold= 300,\n",
    "    tail=tail,\n",
    "    adjacency=adjacency,\n",
    "    out_type=\"mask\",\n",
    "    verbose=True\n",
    ")"
   ]
  },
  {
   "cell_type": "code",
   "execution_count": 71,
   "id": "60d02dee",
   "metadata": {},
   "outputs": [
    {
     "data": {
      "text/plain": [
       "Text(0, 0.5, 'Frequency (Hz)')"
      ]
     },
     "execution_count": 71,
     "metadata": {},
     "output_type": "execute_result"
    },
    {
     "data": {
      "image/png": "[encoded data removed]",
      "text/plain": [
       "<Figure size 640x480 with 2 Axes>"
      ]
     },
     "metadata": {},
     "output_type": "display_data"
    }
   ],
   "source": [
    "plt.figure()\n",
    "plt.subplots_adjust(0.12, 0.08, 0.96, 0.94, 0.2, 0.43)\n",
    "\n",
    "F_obs_plot = np.nan * np.ones_like(F_obs)\n",
    "for c, p_val in zip(clusters, cluster_p_values):\n",
    "    if p_val <= 0.01:\n",
    "        F_obs_plot[c] = F_obs[c]\n",
    "\n",
    "\n",
    "t_idx, f_idx = np.unravel_index(\n",
    "    np.nanargmax(np.abs(F_obs_plot)), pw1.shape[1:]\n",
    ")\n",
    "\n",
    "vmax = np.max(np.abs(F_obs))\n",
    "vmin = -vmax\n",
    "plt.close()\n",
    "plt.figure()\n",
    "plt.imshow(\n",
    "    np.transpose(F_obs),\n",
    "    cmap=plt.cm.gray,\n",
    "   # extent=[times[0], times[-1], freqs[0], freqs[-1]],\n",
    "    aspect=\"auto\",\n",
    "    origin=\"lower\",\n",
    "    vmin=vmin,\n",
    "    vmax=vmax,\n",
    ")\n",
    "\n",
    "plt.imshow(\n",
    "    np.transpose(F_obs_plot),\n",
    "    cmap=plt.cm.RdBu_r,\n",
    " #   extent=[times[0], times[-1], freqs[0], freqs[-1]],\n",
    "    aspect=\"auto\",\n",
    "    origin=\"lower\",\n",
    "    vmin=vmin,\n",
    "    vmax=vmax,\n",
    ")\n",
    "plt.colorbar()\n",
    "plt.xlabel(\"Time (ms)\")\n",
    "plt.ylabel(\"Frequency (Hz)\")\n",
    "#plt.title(f\"Induced power ({tfr_epochs.ch_names[ch_idx]})\")"
   ]
  },
  {
   "cell_type": "code",
   "execution_count": 76,
   "id": "da3a1da8",
   "metadata": {},
   "outputs": [],
   "source": [
    "# save significant clusters\n",
    "sigClsts = {\"F_obs\":F_obs, \"clusters\":np.array(clusters), \"cluster_p_values\":cluster_p_values, \"H0\":H0,\n",
    "           \"F_obs_thr\":F_obs_plot, 't_idx':t_idx, 'f_idx':f_idx}\n",
    "io.savemat(\"UMAP/ALLDATA_semisupervise/mnePermutationClusterTest_sigClsts_THAL-ipsi_vs_COR-ipsi.mat\", sigClsts)"
   ]
  },
  {
   "cell_type": "code",
   "execution_count": null,
   "id": "21cbb611",
   "metadata": {},
   "outputs": [],
   "source": []
  }
 ],
 "metadata": {
  "kernelspec": {
   "display_name": "Python 3 (ipykernel)",
   "language": "python",
   "name": "python3"
  },
  "language_info": {
   "codemirror_mode": {
    "name": "ipython",
    "version": 3
   },
   "file_extension": ".py",
   "mimetype": "text/x-python",
   "name": "python",
   "nbconvert_exporter": "python",
   "pygments_lexer": "ipython3",
   "version": "3.9.16"
  }
 },
 "nbformat": 4,
 "nbformat_minor": 5
}
