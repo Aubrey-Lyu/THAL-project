{
 "cells": [
  {
   "cell_type": "markdown",
   "id": "84cd2d8e-c749-4a34-9175-509903f3a9f6",
   "metadata": {},
   "source": [
    "# Group original spectrograms\n",
    "The challenge is that the original spectrogm is too big and overwhelm the working memory (128G), need to think through what to group first, and select those from subject specific data, also need to crop the data."
   ]
  },
  {
   "cell_type": "code",
   "execution_count": 3,
   "id": "480514bd-06a9-4581-9455-a1855506b1ee",
   "metadata": {
    "tags": []
   },
   "outputs": [],
   "source": [
    "import numpy as np\n",
    "import matplotlib.pyplot as plt\n",
    "import scipy.stats\n",
    "import os\n",
    "import mat73\n",
    "import mne\n",
    "from mne.time_frequency import tfr_morlet\n",
    "import pandas as pd\n",
    "import scipy.io as io\n",
    "from numpy import loadtxt\n",
    "from sklearn.pipeline import make_pipeline\n",
    "from sklearn.impute import SimpleImputer\n",
    "import sklearn.metrics.pairwise as pairwise\n",
    "from mpl_toolkits.axes_grid1 import make_axes_locatable\n",
    "import glob"
   ]
  },
  {
   "cell_type": "code",
   "execution_count": 140,
   "id": "a27079ba-af1b-4248-b692-6c1ed93d5bdf",
   "metadata": {
    "tags": []
   },
   "outputs": [],
   "source": [
    "import sys\n",
    "sys.path.append('/data/dian/Dropbox/scripts/Stanford/ThalamocoricalLoop-project/utils') \n",
    "import customFunctions\n",
    "import importlib\n",
    "importlib.reload(customFunctions)\n",
    "from customFunctions import *"
   ]
  },
  {
   "cell_type": "code",
   "execution_count": 5,
   "id": "d2811fe5-eb7b-4a71-b465-f3aaa2aa1daf",
   "metadata": {},
   "outputs": [],
   "source": [
    "os.chdir('/data/dian/Dropbox/Stanford_Matters/data/THAL/CCEP/results/explore5_locked')"
   ]
  },
  {
   "cell_type": "code",
   "execution_count": 6,
   "id": "688b53ec-ccb6-4ccb-8c05-fb38b117eab2",
   "metadata": {
    "tags": []
   },
   "outputs": [],
   "source": [
    "metaT = pd.read_csv('table_CCEPnewpipOutput_wholebrain_anatomical_info_activationRedone2.csv')"
   ]
  },
  {
   "cell_type": "code",
   "execution_count": 123,
   "id": "e491428d-1e47-4de2-837c-564f8713ac0a",
   "metadata": {
    "tags": []
   },
   "outputs": [],
   "source": [
    "keys=['filteridx_metaT','power','time','freqs']\n",
    "sb = 'S21_166_TM'\n",
    "inputDir = '/data/dian/Dropbox/Stanford_Matters/data/THAL/CCEP/results/explore5_locked/spectCCEP'\n",
    "fn = \"%s/spectCCEP_%s_%s.mat\" % (inputDir,'power',sb)\n",
    "current = mat73.loadmat(fn)"
   ]
  },
  {
   "cell_type": "code",
   "execution_count": 124,
   "id": "c3eadeba-b6b7-4547-a2ab-c46ee80df268",
   "metadata": {
    "tags": []
   },
   "outputs": [
    {
     "data": {
      "text/plain": [
       "['CCEP_power',\n",
       " 'freqs',\n",
       " 'fsample',\n",
       " 'idx_in_metaT',\n",
       " 'spectrum',\n",
       " 'time',\n",
       " 'wavelet_span']"
      ]
     },
     "execution_count": 124,
     "metadata": {},
     "output_type": "execute_result"
    }
   ],
   "source": [
    "list(current.keys())"
   ]
  },
  {
   "cell_type": "code",
   "execution_count": 125,
   "id": "7847815e-3c23-4c9f-a920-31ff9b564d3f",
   "metadata": {
    "tags": []
   },
   "outputs": [
    {
     "data": {
      "text/plain": [
       "(5562, 501, 59)"
      ]
     },
     "execution_count": 125,
     "metadata": {},
     "output_type": "execute_result"
    }
   ],
   "source": [
    "current['CCEP_power'].shape"
   ]
  },
  {
   "cell_type": "code",
   "execution_count": 20,
   "id": "7b0849a8-b88c-42f3-b143-f7e7daaed279",
   "metadata": {
    "tags": []
   },
   "outputs": [
    {
     "name": "stdout",
     "output_type": "stream",
     "text": [
      "(26,)\n",
      "['S21_166_TM' 'S21_167_MQ' 'S21_169_BH' 'S21_170_JL' 'S21_171_MM'\n",
      " 'S21_172_KS' 'S22_176_LB' 'S22_177_JM' 'S22_178_AF' 'S22_181_CB'\n",
      " 'S22_182_DH' 'S22_183_CR' 'S22_185_TW' 'S22_188_CB' 'S22_189_LMA'\n",
      " 'S22_190_AS' 'S22_192_LG' 'S22_193_AM' 'S23_194_PS' 'S23_195_MZ'\n",
      " 'S23_197_TA' 'S23_198_JP' 'S23_199_GB' 'S23_201_JG' 'S23_202_KC'\n",
      " 'S23_205_LLC']\n"
     ]
    }
   ],
   "source": [
    "sblist = metaT.subject.unique()\n",
    "sblist = np.delete(sblist, np.where(sblist=='S23_196_HL'))\n",
    "print(sblist.shape)\n",
    "print(sblist)\n",
    "#mat = mergeMat(sblist, keys=['filteridx_metaT'], # only group index, output indexing is in the python couting scheme\n",
    " #             inputDir = 'UMAP_learn/resample3')"
   ]
  },
  {
   "cell_type": "code",
   "execution_count": 22,
   "id": "bb3f641c-8dd5-4d1b-923d-6102e502e3d2",
   "metadata": {
    "tags": []
   },
   "outputs": [
    {
     "data": {
      "text/plain": [
       "array(['S22_193_AM', 'S23_194_PS', 'S23_195_MZ'], dtype=object)"
      ]
     },
     "execution_count": 22,
     "metadata": {},
     "output_type": "execute_result"
    }
   ],
   "source": [
    "sblist[17:20]"
   ]
  },
  {
   "cell_type": "code",
   "execution_count": 11,
   "id": "5c0cd905-0f16-407e-8325-21266fa8ffcc",
   "metadata": {
    "tags": []
   },
   "outputs": [],
   "source": [
    "brainInfo = pd.read_csv('UMAP/ALLDATA_semisupervise/brainInfo.csv')\n",
    "isnoise = loadtxt('UMAP/ALLDATA_semisupervise/isnoise.txt',\n",
    "                delimiter=\"\\t\")\n",
    "cleanFeatures = loadtxt('UMAP/ALLDATA_semisupervise/cleanFeatures.txt',\n",
    "                delimiter=\"\\t\",dtype='str')"
   ]
  },
  {
   "cell_type": "code",
   "execution_count": 12,
   "id": "3ef9038c-2395-44cf-95ea-51687d38c6a8",
   "metadata": {
    "tags": []
   },
   "outputs": [],
   "source": [
    "ftypes = np.unique(cleanFeatures)"
   ]
  },
  {
   "cell_type": "code",
   "execution_count": 13,
   "id": "ea5291e0-908e-42be-9721-c6f04779f7b3",
   "metadata": {
    "tags": []
   },
   "outputs": [
    {
     "data": {
      "text/plain": [
       "array(['COR-contr', 'COR-ipsi', 'THAL-contr', 'THAL-ipsi'], dtype='<U10')"
      ]
     },
     "execution_count": 13,
     "metadata": {},
     "output_type": "execute_result"
    }
   ],
   "source": [
    "ftypes"
   ]
  },
  {
   "cell_type": "markdown",
   "id": "027a377f-3147-4700-8470-404ae54cff33",
   "metadata": {},
   "source": [
    "## Prepare original spectCCEP and the feature map for each category"
   ]
  },
  {
   "cell_type": "code",
   "execution_count": 14,
   "id": "bc2bbfde-aeec-4133-93c2-a8bcae4c8b77",
   "metadata": {
    "tags": []
   },
   "outputs": [],
   "source": [
    "it=2 # THAL-contr"
   ]
  },
  {
   "cell_type": "code",
   "execution_count": 15,
   "id": "1a66eaa5-846a-4da0-8f3b-65005d17694a",
   "metadata": {
    "tags": []
   },
   "outputs": [],
   "source": [
    "hemis = list(map(detHemi,\n",
    "                 metaT.MNIout_coord_1.tolist(), metaT.MNIin_coord_1.tolist()\n",
    "          ))\n",
    "df = pd.DataFrame({'anatomy_conn': list(map(lambda x,y:'-'.join(str(e) for e in [x,y]),\n",
    "                  cortexLab(metaT.JP_label_out.tolist()),\n",
    "                  cortexLab(metaT.JP_label_in.tolist()))),#,\n",
    "                 # metaT.activated.tolist())),\n",
    "                   'hemis':hemis\n",
    "                  })\n",
    "df['anatomy_from'] = cortexLab(metaT.JP_label_out.tolist())\n",
    "df['anatomy_to']   = cortexLab(metaT.JP_label_in.tolist())\n",
    "df['anatomy_fromTHAL'] = thalLab(metaT.JP_label_out.tolist())\n",
    "df['anatomy_toTHAL'] = thalLab(metaT.JP_label_in.tolist())\n",
    "\n",
    "crossNet_cat = ['internet','intranet']\n",
    "df['crossNet_bin'] = list(map(lambda x,y:crossNet_cat[int(x==y)],\n",
    "                         metaT.Yeo7_out2, metaT.Yeo7_in2))\n",
    "df['crossNet'] = list(map(lambda x,y:'-'.join(str(e) for e in [x,y]),\n",
    "                         metaT.Yeo7_out2, metaT.Yeo7_in2))\n",
    "df['Hemi-crossNet_bin'] = list(map(lambda x,y:'-'.join(str(e) for e in [x,y]),\n",
    "                  df['hemis'],\n",
    "                  df['crossNet_bin']\n",
    "                         ))\n",
    "df['anatomy_from-hemi'] = df['anatomy_from'].str.cat(df['hemis'], sep='-')"
   ]
  },
  {
   "cell_type": "code",
   "execution_count": 156,
   "id": "29d93929-36f7-4935-999f-77f18e77110e",
   "metadata": {
    "tags": []
   },
   "outputs": [],
   "source": [
    "# sort some other exclusion criteria \n",
    "'''\n",
    "1.stimID_exclude  = 'S21_167_MQ RE1-RE2',\n",
    "2. brainInfo-> T.index (index_python back to metaT)\n",
    "3. isnoise = 0\n",
    "4. within features of interest\n",
    "'''\n",
    "# sort activation labelling - prior information\n",
    "act = io.loadmat('umapAct.mat') # corresponding to metaT, 0 = inactive, 1 = active, nan = noise\n",
    "idx_in_metaT_1 =  np.where(act['umapAct'][:,0]==1)[0]\n",
    "idx_in_metaT_0 = np.where(act['umapAct'][:,0]==0)[0]\n",
    "boolean_exclude = (((brainInfo['subject']=='S21_167_MQ')& (brainInfo['stim_chan']=='RE1-RE2'))\n",
    "                    |(isnoise==1)) # n=3892\n",
    "# customized condition in this code\n",
    "boolean_include = (cleanFeatures==ftypes[it])\n",
    "# filter1\n",
    "idx_in_metaT_include = brainInfo['idx_in_metaT'][(~boolean_exclude) & boolean_include]\n",
    "# filter2 - inactive control to contrast against\n",
    "idx_in_metaT_nonact = np.intersect1d(np.setdiff1d(idx_in_metaT_0, \n",
    "                                    brainInfo['idx_in_metaT'][(boolean_exclude)] ),\n",
    "                              np.where(df['anatomy_from-hemi']==ftypes[it])[0]\n",
    "                             )"
   ]
  },
  {
   "cell_type": "code",
   "execution_count": 146,
   "id": "fc650140-7aae-4c9b-bb78-b72b88b8c6ea",
   "metadata": {
    "tags": []
   },
   "outputs": [
    {
     "data": {
      "text/plain": [
       "(array([138272, 138273, 138274, ..., 174613, 174614, 174615]),)"
      ]
     },
     "execution_count": 146,
     "metadata": {},
     "output_type": "execute_result"
    }
   ],
   "source": [
    "np.where(np.isin(metaT.subject,sblist[17:19]))"
   ]
  },
  {
   "cell_type": "code",
   "execution_count": 159,
   "id": "0346389b-3f8a-462d-a8a5-8ece273a7279",
   "metadata": {},
   "outputs": [],
   "source": [
    "filteridx = np.intersect1d(idx_in_metaT_include, np.where(np.isin(metaT.subject,sblist[17:19]))[0])"
   ]
  },
  {
   "cell_type": "code",
   "execution_count": 143,
   "id": "541099fe-42d9-4324-b5e7-93e78a266566",
   "metadata": {
    "tags": []
   },
   "outputs": [
    {
     "data": {
      "text/html": [
       "<div>\n",
       "<style scoped>\n",
       "    .dataframe tbody tr th:only-of-type {\n",
       "        vertical-align: middle;\n",
       "    }\n",
       "\n",
       "    .dataframe tbody tr th {\n",
       "        vertical-align: top;\n",
       "    }\n",
       "\n",
       "    .dataframe thead th {\n",
       "        text-align: right;\n",
       "    }\n",
       "</style>\n",
       "<table border=\"1\" class=\"dataframe\">\n",
       "  <thead>\n",
       "    <tr style=\"text-align: right;\">\n",
       "      <th></th>\n",
       "      <th>subject</th>\n",
       "      <th>aSubID</th>\n",
       "      <th>block_name</th>\n",
       "      <th>stim_chan</th>\n",
       "      <th>record_chan</th>\n",
       "      <th>sc1</th>\n",
       "      <th>sc2</th>\n",
       "      <th>rc1</th>\n",
       "      <th>rc2</th>\n",
       "      <th>stim_shank</th>\n",
       "      <th>...</th>\n",
       "      <th>pks_time_3</th>\n",
       "      <th>pks_time_4</th>\n",
       "      <th>pks_time_5</th>\n",
       "      <th>pks_time_6</th>\n",
       "      <th>pks_time_7</th>\n",
       "      <th>pks_time_8</th>\n",
       "      <th>pks_time_9</th>\n",
       "      <th>pks_time_10</th>\n",
       "      <th>pks_time_11</th>\n",
       "      <th>pks_time_12</th>\n",
       "    </tr>\n",
       "  </thead>\n",
       "  <tbody>\n",
       "    <tr>\n",
       "      <th>0</th>\n",
       "      <td>S21_166_TM</td>\n",
       "      <td>S01_166</td>\n",
       "      <td>E21-725_0010</td>\n",
       "      <td>LPCN1-LPCN2</td>\n",
       "      <td>LORF1-LORF2</td>\n",
       "      <td>LPCN1</td>\n",
       "      <td>LPCN2</td>\n",
       "      <td>LORF1</td>\n",
       "      <td>LORF2</td>\n",
       "      <td>0</td>\n",
       "      <td>...</td>\n",
       "      <td>460.0</td>\n",
       "      <td>NaN</td>\n",
       "      <td>NaN</td>\n",
       "      <td>NaN</td>\n",
       "      <td>NaN</td>\n",
       "      <td>NaN</td>\n",
       "      <td>NaN</td>\n",
       "      <td>NaN</td>\n",
       "      <td>NaN</td>\n",
       "      <td>NaN</td>\n",
       "    </tr>\n",
       "    <tr>\n",
       "      <th>1</th>\n",
       "      <td>S21_166_TM</td>\n",
       "      <td>S01_166</td>\n",
       "      <td>E21-725_0010</td>\n",
       "      <td>LPCN1-LPCN2</td>\n",
       "      <td>LORF2-LORF3</td>\n",
       "      <td>LPCN1</td>\n",
       "      <td>LPCN2</td>\n",
       "      <td>LORF2</td>\n",
       "      <td>LORF3</td>\n",
       "      <td>0</td>\n",
       "      <td>...</td>\n",
       "      <td>442.0</td>\n",
       "      <td>NaN</td>\n",
       "      <td>NaN</td>\n",
       "      <td>NaN</td>\n",
       "      <td>NaN</td>\n",
       "      <td>NaN</td>\n",
       "      <td>NaN</td>\n",
       "      <td>NaN</td>\n",
       "      <td>NaN</td>\n",
       "      <td>NaN</td>\n",
       "    </tr>\n",
       "    <tr>\n",
       "      <th>2</th>\n",
       "      <td>S21_166_TM</td>\n",
       "      <td>S01_166</td>\n",
       "      <td>E21-725_0010</td>\n",
       "      <td>LPCN1-LPCN2</td>\n",
       "      <td>LORF3-LORF4</td>\n",
       "      <td>LPCN1</td>\n",
       "      <td>LPCN2</td>\n",
       "      <td>LORF3</td>\n",
       "      <td>LORF4</td>\n",
       "      <td>0</td>\n",
       "      <td>...</td>\n",
       "      <td>73.0</td>\n",
       "      <td>167.0</td>\n",
       "      <td>476.0</td>\n",
       "      <td>NaN</td>\n",
       "      <td>NaN</td>\n",
       "      <td>NaN</td>\n",
       "      <td>NaN</td>\n",
       "      <td>NaN</td>\n",
       "      <td>NaN</td>\n",
       "      <td>NaN</td>\n",
       "    </tr>\n",
       "    <tr>\n",
       "      <th>3</th>\n",
       "      <td>S21_166_TM</td>\n",
       "      <td>S01_166</td>\n",
       "      <td>E21-725_0010</td>\n",
       "      <td>LPCN1-LPCN2</td>\n",
       "      <td>LORF4-LORF5</td>\n",
       "      <td>LPCN1</td>\n",
       "      <td>LPCN2</td>\n",
       "      <td>LORF4</td>\n",
       "      <td>LORF5</td>\n",
       "      <td>0</td>\n",
       "      <td>...</td>\n",
       "      <td>157.0</td>\n",
       "      <td>454.0</td>\n",
       "      <td>NaN</td>\n",
       "      <td>NaN</td>\n",
       "      <td>NaN</td>\n",
       "      <td>NaN</td>\n",
       "      <td>NaN</td>\n",
       "      <td>NaN</td>\n",
       "      <td>NaN</td>\n",
       "      <td>NaN</td>\n",
       "    </tr>\n",
       "    <tr>\n",
       "      <th>4</th>\n",
       "      <td>S21_166_TM</td>\n",
       "      <td>S01_166</td>\n",
       "      <td>E21-725_0010</td>\n",
       "      <td>LPCN1-LPCN2</td>\n",
       "      <td>LORF5-LORF6</td>\n",
       "      <td>LPCN1</td>\n",
       "      <td>LPCN2</td>\n",
       "      <td>LORF5</td>\n",
       "      <td>LORF6</td>\n",
       "      <td>0</td>\n",
       "      <td>...</td>\n",
       "      <td>444.0</td>\n",
       "      <td>NaN</td>\n",
       "      <td>NaN</td>\n",
       "      <td>NaN</td>\n",
       "      <td>NaN</td>\n",
       "      <td>NaN</td>\n",
       "      <td>NaN</td>\n",
       "      <td>NaN</td>\n",
       "      <td>NaN</td>\n",
       "      <td>NaN</td>\n",
       "    </tr>\n",
       "  </tbody>\n",
       "</table>\n",
       "<p>5 rows × 70 columns</p>\n",
       "</div>"
      ],
      "text/plain": [
       "      subject   aSubID    block_name    stim_chan  record_chan    sc1    sc2   \n",
       "0  S21_166_TM  S01_166  E21-725_0010  LPCN1-LPCN2  LORF1-LORF2  LPCN1  LPCN2  \\\n",
       "1  S21_166_TM  S01_166  E21-725_0010  LPCN1-LPCN2  LORF2-LORF3  LPCN1  LPCN2   \n",
       "2  S21_166_TM  S01_166  E21-725_0010  LPCN1-LPCN2  LORF3-LORF4  LPCN1  LPCN2   \n",
       "3  S21_166_TM  S01_166  E21-725_0010  LPCN1-LPCN2  LORF4-LORF5  LPCN1  LPCN2   \n",
       "4  S21_166_TM  S01_166  E21-725_0010  LPCN1-LPCN2  LORF5-LORF6  LPCN1  LPCN2   \n",
       "\n",
       "     rc1    rc2  stim_shank  ...  pks_time_3  pks_time_4  pks_time_5   \n",
       "0  LORF1  LORF2           0  ...       460.0         NaN         NaN  \\\n",
       "1  LORF2  LORF3           0  ...       442.0         NaN         NaN   \n",
       "2  LORF3  LORF4           0  ...        73.0       167.0       476.0   \n",
       "3  LORF4  LORF5           0  ...       157.0       454.0         NaN   \n",
       "4  LORF5  LORF6           0  ...       444.0         NaN         NaN   \n",
       "\n",
       "   pks_time_6  pks_time_7  pks_time_8  pks_time_9  pks_time_10  pks_time_11   \n",
       "0         NaN         NaN         NaN         NaN          NaN          NaN  \\\n",
       "1         NaN         NaN         NaN         NaN          NaN          NaN   \n",
       "2         NaN         NaN         NaN         NaN          NaN          NaN   \n",
       "3         NaN         NaN         NaN         NaN          NaN          NaN   \n",
       "4         NaN         NaN         NaN         NaN          NaN          NaN   \n",
       "\n",
       "   pks_time_12  \n",
       "0          NaN  \n",
       "1          NaN  \n",
       "2          NaN  \n",
       "3          NaN  \n",
       "4          NaN  \n",
       "\n",
       "[5 rows x 70 columns]"
      ]
     },
     "execution_count": 143,
     "metadata": {},
     "output_type": "execute_result"
    }
   ],
   "source": [
    "metaT.head()"
   ]
  },
  {
   "cell_type": "code",
   "execution_count": null,
   "id": "7a80870c-21d1-4d9d-bd3d-e1debd19f4c7",
   "metadata": {},
   "outputs": [],
   "source": []
  }
 ],
 "metadata": {
  "kernelspec": {
   "display_name": "Python [conda env:.conda-jlab] *",
   "language": "python",
   "name": "conda-env-.conda-jlab-py"
  },
  "language_info": {
   "codemirror_mode": {
    "name": "ipython",
    "version": 3
   },
   "file_extension": ".py",
   "mimetype": "text/x-python",
   "name": "python",
   "nbconvert_exporter": "python",
   "pygments_lexer": "ipython3",
   "version": "3.9.16"
  }
 },
 "nbformat": 4,
 "nbformat_minor": 5
}
