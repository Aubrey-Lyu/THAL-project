{
 "cells": [
  {
   "cell_type": "code",
   "execution_count": null,
   "id": "d075d8bd",
   "metadata": {},
   "outputs": [],
   "source": [
    "dir_base = '/data/dian/Dropbox/Stanford_Matters/data/THAL/CCEP/results/explore1_dataSort_Denoise/BPC/COR-COR'"
   ]
  }
 ],
 "metadata": {
  "kernelspec": {
   "display_name": "Matlab (Connection)",
   "language": "matlab",
   "name": "matlab_connect"
  },
  "language_info": {
   "codemirror_mode": "octave",
   "file_extension": ".m",
   "help_links": [
    {
     "text": "MetaKernel Magics",
     "url": "https://metakernel.readthedocs.io/en/latest/source/README.html"
    }
   ],
   "mimetype": "text/x-octave",
   "name": "matlab",
   "version": "0.17.1"
  }
 },
 "nbformat": 4,
 "nbformat_minor": 5
}
